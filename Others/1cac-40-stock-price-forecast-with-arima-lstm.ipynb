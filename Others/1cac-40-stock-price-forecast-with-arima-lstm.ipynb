{
 "cells": [
  {
   "cell_type": "markdown",
   "metadata": {
    "papermill": {
     "duration": 0.055281,
     "end_time": "2021-01-13T11:27:44.549814",
     "exception": false,
     "start_time": "2021-01-13T11:27:44.494533",
     "status": "completed"
    },
    "tags": []
   },
   "source": [
    "# CAC 40 Stock Price Forecast with ARIMA & LSTM"
   ]
  },
  {
   "cell_type": "markdown",
   "metadata": {
    "papermill": {
     "duration": 0.055263,
     "end_time": "2021-01-13T11:27:44.659007",
     "exception": false,
     "start_time": "2021-01-13T11:27:44.603744",
     "status": "completed"
    },
    "tags": []
   },
   "source": [
    "### Reference Material"
   ]
  },
  {
   "cell_type": "markdown",
   "metadata": {
    "papermill": {
     "duration": 0.053973,
     "end_time": "2021-01-13T11:27:44.767238",
     "exception": false,
     "start_time": "2021-01-13T11:27:44.713265",
     "status": "completed"
    },
    "tags": []
   },
   "source": [
    "* CAC 40 data Donwload: https://www.euronext.com/en/products/indices/FR0003500008-XPAR\n",
    "* Jupyter Notebook Connect with HDFS: http://nbviewer.jupyter.org/github/ofermend/IPython-notebooks/blob/master/blog-part-1.ipynb\n",
    "* Time Series Prediction with LSTM: https://machinelearningmastery.com/time-series-prediction-lstm-recurrent-neural-networks-python-keras/\n",
    "* Data Science with Apache Hadoop: Predicting Airline Delays: https://fr.hortonworks.com/blog/data-science-apacheh-hadoop-predicting-airline-delays/"
   ]
  },
  {
   "cell_type": "markdown",
   "metadata": {
    "papermill": {
     "duration": 0.054576,
     "end_time": "2021-01-13T11:27:44.876073",
     "exception": false,
     "start_time": "2021-01-13T11:27:44.821497",
     "status": "completed"
    },
    "tags": []
   },
   "source": [
    "---"
   ]
  },
  {
   "cell_type": "markdown",
   "metadata": {
    "papermill": {
     "duration": 0.053476,
     "end_time": "2021-01-13T11:27:44.983921",
     "exception": false,
     "start_time": "2021-01-13T11:27:44.930445",
     "status": "completed"
    },
    "tags": []
   },
   "source": [
    "## PART 1. Data pre processing"
   ]
  },
  {
   "cell_type": "markdown",
   "metadata": {
    "papermill": {
     "duration": 0.053303,
     "end_time": "2021-01-13T11:27:45.090989",
     "exception": false,
     "start_time": "2021-01-13T11:27:45.037686",
     "status": "completed"
    },
    "tags": []
   },
   "source": [
    "Start by uploading data from HDFS or Local machine"
   ]
  },
  {
   "cell_type": "markdown",
   "metadata": {
    "papermill": {
     "duration": 0.053343,
     "end_time": "2021-01-13T11:27:45.198142",
     "exception": false,
     "start_time": "2021-01-13T11:27:45.144799",
     "status": "completed"
    },
    "tags": []
   },
   "source": [
    "### 1.1. Import Dataset from HDFS"
   ]
  },
  {
   "cell_type": "code",
   "execution_count": 1,
   "metadata": {
    "execution": {
     "iopub.execute_input": "2021-01-13T11:27:45.312299Z",
     "iopub.status.busy": "2021-01-13T11:27:45.311554Z",
     "iopub.status.idle": "2021-01-13T11:27:45.314753Z",
     "shell.execute_reply": "2021-01-13T11:27:45.314184Z"
    },
    "papermill": {
     "duration": 0.062713,
     "end_time": "2021-01-13T11:27:45.314886",
     "exception": false,
     "start_time": "2021-01-13T11:27:45.252173",
     "status": "completed"
    },
    "tags": []
   },
   "outputs": [],
   "source": [
    "import pandas as pd\n",
    "import numpy as np\n",
    "import math\n",
    "import matplotlib.pyplot as plt\n",
    "import warnings\n",
    "warnings.filterwarnings(\"ignore\")"
   ]
  },
  {
   "cell_type": "markdown",
   "metadata": {
    "papermill": {
     "duration": 0.054366,
     "end_time": "2021-01-13T11:27:45.423829",
     "exception": false,
     "start_time": "2021-01-13T11:27:45.369463",
     "status": "completed"
    },
    "tags": []
   },
   "source": [
    "### 1.1. Import Dataset from Local Hard Drive"
   ]
  },
  {
   "cell_type": "markdown",
   "metadata": {
    "papermill": {
     "duration": 0.053774,
     "end_time": "2021-01-13T11:27:45.531585",
     "exception": false,
     "start_time": "2021-01-13T11:27:45.477811",
     "status": "completed"
    },
    "tags": []
   },
   "source": [
    "* If you are not using HDFS, import the csv file directly from the local disk.\n",
    "* Ignore this step if you have imported csv files from HDFS."
   ]
  },
  {
   "cell_type": "code",
   "execution_count": 2,
   "metadata": {
    "execution": {
     "iopub.execute_input": "2021-01-13T11:27:45.653331Z",
     "iopub.status.busy": "2021-01-13T11:27:45.652525Z",
     "iopub.status.idle": "2021-01-13T11:27:45.701186Z",
     "shell.execute_reply": "2021-01-13T11:27:45.700633Z"
    },
    "papermill": {
     "duration": 0.115512,
     "end_time": "2021-01-13T11:27:45.701320",
     "exception": false,
     "start_time": "2021-01-13T11:27:45.585808",
     "status": "completed"
    },
    "tags": []
   },
   "outputs": [
    {
     "data": {
      "text/html": [
       "<div>\n",
       "<style scoped>\n",
       "    .dataframe tbody tr th:only-of-type {\n",
       "        vertical-align: middle;\n",
       "    }\n",
       "\n",
       "    .dataframe tbody tr th {\n",
       "        vertical-align: top;\n",
       "    }\n",
       "\n",
       "    .dataframe thead th {\n",
       "        text-align: right;\n",
       "    }\n",
       "</style>\n",
       "<table border=\"1\" class=\"dataframe\">\n",
       "  <thead>\n",
       "    <tr style=\"text-align: right;\">\n",
       "      <th></th>\n",
       "      <th>Date</th>\n",
       "      <th>Open</th>\n",
       "      <th>High</th>\n",
       "      <th>Low</th>\n",
       "      <th>Close</th>\n",
       "      <th>Turnover</th>\n",
       "    </tr>\n",
       "  </thead>\n",
       "  <tbody>\n",
       "    <tr>\n",
       "      <th>0</th>\n",
       "      <td>03/01/2000</td>\n",
       "      <td>6024.38</td>\n",
       "      <td>6102.12</td>\n",
       "      <td>5901.77</td>\n",
       "      <td>5917.37</td>\n",
       "      <td>-</td>\n",
       "    </tr>\n",
       "    <tr>\n",
       "      <th>1</th>\n",
       "      <td>04/01/2000</td>\n",
       "      <td>5922.23</td>\n",
       "      <td>5925.07</td>\n",
       "      <td>5657.20</td>\n",
       "      <td>5672.02</td>\n",
       "      <td>-</td>\n",
       "    </tr>\n",
       "    <tr>\n",
       "      <th>2</th>\n",
       "      <td>05/01/2000</td>\n",
       "      <td>5521.83</td>\n",
       "      <td>5589.50</td>\n",
       "      <td>5461.59</td>\n",
       "      <td>5479.70</td>\n",
       "      <td>-</td>\n",
       "    </tr>\n",
       "    <tr>\n",
       "      <th>3</th>\n",
       "      <td>06/01/2000</td>\n",
       "      <td>5485.93</td>\n",
       "      <td>5530.26</td>\n",
       "      <td>5388.85</td>\n",
       "      <td>5450.11</td>\n",
       "      <td>-</td>\n",
       "    </tr>\n",
       "    <tr>\n",
       "      <th>4</th>\n",
       "      <td>07/01/2000</td>\n",
       "      <td>5423.88</td>\n",
       "      <td>5561.69</td>\n",
       "      <td>5423.88</td>\n",
       "      <td>5539.61</td>\n",
       "      <td>-</td>\n",
       "    </tr>\n",
       "  </tbody>\n",
       "</table>\n",
       "</div>"
      ],
      "text/plain": [
       "         Date     Open     High      Low    Close Turnover\n",
       "0  03/01/2000  6024.38  6102.12  5901.77  5917.37        -\n",
       "1  04/01/2000  5922.23  5925.07  5657.20  5672.02        -\n",
       "2  05/01/2000  5521.83  5589.50  5461.59  5479.70        -\n",
       "3  06/01/2000  5485.93  5530.26  5388.85  5450.11        -\n",
       "4  07/01/2000  5423.88  5561.69  5423.88  5539.61        -"
      ]
     },
     "execution_count": 2,
     "metadata": {},
     "output_type": "execute_result"
    }
   ],
   "source": [
    "cac_df = pd.read_csv('/kaggle/input/cac1data/cac40.csv')\n",
    "cac_df.head()"
   ]
  },
  {
   "cell_type": "markdown",
   "metadata": {
    "papermill": {
     "duration": 0.054735,
     "end_time": "2021-01-13T11:27:45.811878",
     "exception": false,
     "start_time": "2021-01-13T11:27:45.757143",
     "status": "completed"
    },
    "tags": []
   },
   "source": [
    "### 1.2 Display a summary of statistical measure of this data"
   ]
  },
  {
   "cell_type": "code",
   "execution_count": 3,
   "metadata": {
    "execution": {
     "iopub.execute_input": "2021-01-13T11:27:45.926307Z",
     "iopub.status.busy": "2021-01-13T11:27:45.925622Z",
     "iopub.status.idle": "2021-01-13T11:27:45.944669Z",
     "shell.execute_reply": "2021-01-13T11:27:45.943962Z"
    },
    "papermill": {
     "duration": 0.076764,
     "end_time": "2021-01-13T11:27:45.944863",
     "exception": false,
     "start_time": "2021-01-13T11:27:45.868099",
     "status": "completed"
    },
    "tags": []
   },
   "outputs": [
    {
     "name": "stdout",
     "output_type": "stream",
     "text": [
      "<class 'pandas.core.frame.DataFrame'>\n",
      "RangeIndex: 4841 entries, 0 to 4840\n",
      "Data columns (total 6 columns):\n",
      " #   Column    Non-Null Count  Dtype  \n",
      "---  ------    --------------  -----  \n",
      " 0   Date      4841 non-null   object \n",
      " 1   Open      4841 non-null   float64\n",
      " 2   High      4841 non-null   float64\n",
      " 3   Low       4841 non-null   float64\n",
      " 4   Close     4841 non-null   float64\n",
      " 5   Turnover  4841 non-null   object \n",
      "dtypes: float64(4), object(2)\n",
      "memory usage: 227.0+ KB\n"
     ]
    }
   ],
   "source": [
    "cac_df.info() # give the complacte inforamtion of dataset including datatypes null values "
   ]
  },
  {
   "cell_type": "code",
   "execution_count": 4,
   "metadata": {
    "execution": {
     "iopub.execute_input": "2021-01-13T11:27:46.066331Z",
     "iopub.status.busy": "2021-01-13T11:27:46.065645Z",
     "iopub.status.idle": "2021-01-13T11:27:46.087138Z",
     "shell.execute_reply": "2021-01-13T11:27:46.087623Z"
    },
    "papermill": {
     "duration": 0.085231,
     "end_time": "2021-01-13T11:27:46.087769",
     "exception": false,
     "start_time": "2021-01-13T11:27:46.002538",
     "status": "completed"
    },
    "tags": []
   },
   "outputs": [
    {
     "data": {
      "text/html": [
       "<div>\n",
       "<style scoped>\n",
       "    .dataframe tbody tr th:only-of-type {\n",
       "        vertical-align: middle;\n",
       "    }\n",
       "\n",
       "    .dataframe tbody tr th {\n",
       "        vertical-align: top;\n",
       "    }\n",
       "\n",
       "    .dataframe thead th {\n",
       "        text-align: right;\n",
       "    }\n",
       "</style>\n",
       "<table border=\"1\" class=\"dataframe\">\n",
       "  <thead>\n",
       "    <tr style=\"text-align: right;\">\n",
       "      <th></th>\n",
       "      <th>Open</th>\n",
       "      <th>High</th>\n",
       "      <th>Low</th>\n",
       "      <th>Close</th>\n",
       "    </tr>\n",
       "  </thead>\n",
       "  <tbody>\n",
       "    <tr>\n",
       "      <th>count</th>\n",
       "      <td>4841.000000</td>\n",
       "      <td>4841.000000</td>\n",
       "      <td>4841.000000</td>\n",
       "      <td>4841.000000</td>\n",
       "    </tr>\n",
       "    <tr>\n",
       "      <th>mean</th>\n",
       "      <td>4384.501946</td>\n",
       "      <td>4415.655670</td>\n",
       "      <td>4349.077560</td>\n",
       "      <td>4382.836474</td>\n",
       "    </tr>\n",
       "    <tr>\n",
       "      <th>std</th>\n",
       "      <td>915.274418</td>\n",
       "      <td>916.785676</td>\n",
       "      <td>913.354876</td>\n",
       "      <td>914.863687</td>\n",
       "    </tr>\n",
       "    <tr>\n",
       "      <th>min</th>\n",
       "      <td>2453.050000</td>\n",
       "      <td>2518.290000</td>\n",
       "      <td>2401.150000</td>\n",
       "      <td>2403.040000</td>\n",
       "    </tr>\n",
       "    <tr>\n",
       "      <th>25%</th>\n",
       "      <td>3678.420000</td>\n",
       "      <td>3704.640000</td>\n",
       "      <td>3652.030000</td>\n",
       "      <td>3675.930000</td>\n",
       "    </tr>\n",
       "    <tr>\n",
       "      <th>50%</th>\n",
       "      <td>4333.550000</td>\n",
       "      <td>4363.560000</td>\n",
       "      <td>4300.420000</td>\n",
       "      <td>4333.760000</td>\n",
       "    </tr>\n",
       "    <tr>\n",
       "      <th>75%</th>\n",
       "      <td>5087.600000</td>\n",
       "      <td>5117.040000</td>\n",
       "      <td>5054.900000</td>\n",
       "      <td>5085.780000</td>\n",
       "    </tr>\n",
       "    <tr>\n",
       "      <th>max</th>\n",
       "      <td>6929.050000</td>\n",
       "      <td>6944.770000</td>\n",
       "      <td>6838.700000</td>\n",
       "      <td>6922.330000</td>\n",
       "    </tr>\n",
       "  </tbody>\n",
       "</table>\n",
       "</div>"
      ],
      "text/plain": [
       "              Open         High          Low        Close\n",
       "count  4841.000000  4841.000000  4841.000000  4841.000000\n",
       "mean   4384.501946  4415.655670  4349.077560  4382.836474\n",
       "std     915.274418   916.785676   913.354876   914.863687\n",
       "min    2453.050000  2518.290000  2401.150000  2403.040000\n",
       "25%    3678.420000  3704.640000  3652.030000  3675.930000\n",
       "50%    4333.550000  4363.560000  4300.420000  4333.760000\n",
       "75%    5087.600000  5117.040000  5054.900000  5085.780000\n",
       "max    6929.050000  6944.770000  6838.700000  6922.330000"
      ]
     },
     "execution_count": 4,
     "metadata": {},
     "output_type": "execute_result"
    }
   ],
   "source": [
    "cac_df.describe() # give the statistical informaion of our dataset"
   ]
  },
  {
   "cell_type": "markdown",
   "metadata": {
    "papermill": {
     "duration": 0.055439,
     "end_time": "2021-01-13T11:27:46.199602",
     "exception": false,
     "start_time": "2021-01-13T11:27:46.144163",
     "status": "completed"
    },
    "tags": []
   },
   "source": [
    "### 1.3. Change String Date to Datetime Format"
   ]
  },
  {
   "cell_type": "code",
   "execution_count": 5,
   "metadata": {
    "execution": {
     "iopub.execute_input": "2021-01-13T11:27:46.329364Z",
     "iopub.status.busy": "2021-01-13T11:27:46.328292Z",
     "iopub.status.idle": "2021-01-13T11:27:46.332406Z",
     "shell.execute_reply": "2021-01-13T11:27:46.332927Z"
    },
    "papermill": {
     "duration": 0.077711,
     "end_time": "2021-01-13T11:27:46.333073",
     "exception": false,
     "start_time": "2021-01-13T11:27:46.255362",
     "status": "completed"
    },
    "tags": []
   },
   "outputs": [
    {
     "data": {
      "text/plain": [
       "0   2000-03-01\n",
       "1   2000-04-01\n",
       "2   2000-05-01\n",
       "3   2000-06-01\n",
       "4   2000-07-01\n",
       "Name: Date, dtype: datetime64[ns]"
      ]
     },
     "execution_count": 5,
     "metadata": {},
     "output_type": "execute_result"
    }
   ],
   "source": [
    "cac_df['Date'] = pd.to_datetime(cac_df['Date']) \n",
    "cac_df.Date.head()"
   ]
  },
  {
   "cell_type": "code",
   "execution_count": 6,
   "metadata": {
    "execution": {
     "iopub.execute_input": "2021-01-13T11:27:46.452471Z",
     "iopub.status.busy": "2021-01-13T11:27:46.451545Z",
     "iopub.status.idle": "2021-01-13T11:27:46.455400Z",
     "shell.execute_reply": "2021-01-13T11:27:46.454862Z"
    },
    "papermill": {
     "duration": 0.065983,
     "end_time": "2021-01-13T11:27:46.455511",
     "exception": false,
     "start_time": "2021-01-13T11:27:46.389528",
     "status": "completed"
    },
    "tags": []
   },
   "outputs": [
    {
     "name": "stdout",
     "output_type": "stream",
     "text": [
      "There are 4841 number of days in the dataset.\n"
     ]
    }
   ],
   "source": [
    "print('There are {} number of days in the dataset.'.format(cac_df.shape[0]))"
   ]
  },
  {
   "cell_type": "markdown",
   "metadata": {
    "papermill": {
     "duration": 0.056751,
     "end_time": "2021-01-13T11:27:46.569937",
     "exception": false,
     "start_time": "2021-01-13T11:27:46.513186",
     "status": "completed"
    },
    "tags": []
   },
   "source": [
    "### 1.4. Set Datetime to Index"
   ]
  },
  {
   "cell_type": "code",
   "execution_count": 7,
   "metadata": {
    "execution": {
     "iopub.execute_input": "2021-01-13T11:27:46.693604Z",
     "iopub.status.busy": "2021-01-13T11:27:46.692578Z",
     "iopub.status.idle": "2021-01-13T11:27:46.696006Z",
     "shell.execute_reply": "2021-01-13T11:27:46.695451Z"
    },
    "papermill": {
     "duration": 0.069018,
     "end_time": "2021-01-13T11:27:46.696132",
     "exception": false,
     "start_time": "2021-01-13T11:27:46.627114",
     "status": "completed"
    },
    "tags": []
   },
   "outputs": [],
   "source": [
    "cac_df.set_index('Date', inplace=True)"
   ]
  },
  {
   "cell_type": "code",
   "execution_count": 8,
   "metadata": {
    "execution": {
     "iopub.execute_input": "2021-01-13T11:27:46.816653Z",
     "iopub.status.busy": "2021-01-13T11:27:46.816021Z",
     "iopub.status.idle": "2021-01-13T11:27:46.820032Z",
     "shell.execute_reply": "2021-01-13T11:27:46.819425Z"
    },
    "papermill": {
     "duration": 0.066371,
     "end_time": "2021-01-13T11:27:46.820206",
     "exception": false,
     "start_time": "2021-01-13T11:27:46.753835",
     "status": "completed"
    },
    "tags": []
   },
   "outputs": [
    {
     "data": {
      "text/plain": [
       "Index(['Open', 'High', 'Low', 'Close', 'Turnover'], dtype='object')"
      ]
     },
     "execution_count": 8,
     "metadata": {},
     "output_type": "execute_result"
    }
   ],
   "source": [
    "cac_df.columns"
   ]
  },
  {
   "cell_type": "markdown",
   "metadata": {
    "papermill": {
     "duration": 0.057753,
     "end_time": "2021-01-13T11:27:46.936759",
     "exception": false,
     "start_time": "2021-01-13T11:27:46.879006",
     "status": "completed"
    },
    "tags": []
   },
   "source": [
    "### 1.5. Feature Selection & Data Resampling"
   ]
  },
  {
   "cell_type": "code",
   "execution_count": 9,
   "metadata": {
    "execution": {
     "iopub.execute_input": "2021-01-13T11:27:47.067333Z",
     "iopub.status.busy": "2021-01-13T11:27:47.066645Z",
     "iopub.status.idle": "2021-01-13T11:27:47.071174Z",
     "shell.execute_reply": "2021-01-13T11:27:47.070609Z"
    },
    "papermill": {
     "duration": 0.075829,
     "end_time": "2021-01-13T11:27:47.071286",
     "exception": false,
     "start_time": "2021-01-13T11:27:46.995457",
     "status": "completed"
    },
    "tags": []
   },
   "outputs": [],
   "source": [
    "def get_technical_indicators(dataset): #function to generate feature technical indicators\n",
    "    \n",
    "    \n",
    "    # Create 7 and 21 days Moving Average\n",
    "    dataset['ma7'] = dataset['Close'].rolling(window = 7).mean()\n",
    "    dataset['ma21'] = dataset['Close'].rolling(window = 21).mean()\n",
    "    \n",
    "    #Create MACD\n",
    "    dataset['26ema'] = dataset['Close'].ewm(span=26).mean()\n",
    "    dataset['12ema'] = dataset['Close'].ewm(span=12).mean()\n",
    "    dataset['MACD'] = (dataset['12ema']-dataset['26ema'])\n",
    "    \n",
    "    #Create Bollinger Bands\n",
    "    dataset['20sd'] = dataset['Close'].rolling(window = 20).std()\n",
    "    dataset['upper_band'] = (dataset['Close'].rolling(window = 20).mean()) + (dataset['20sd']*2)\n",
    "    dataset['lower_band'] = (dataset['Close'].rolling(window = 20).mean()) - (dataset['20sd']*2)\n",
    "    \n",
    "    \n",
    "    #Create Exponential moving average\n",
    "    dataset['ema'] = dataset['Close'].ewm(com=0.5).mean()\n",
    "    \n",
    "    #Create Momentum\n",
    "    dataset['momentum'] = (dataset['Close']/100)-1\n",
    "    #Create ARIMA\n",
    "    dataset['ARIMA'] = 0\n",
    "    \n",
    "    return dataset"
   ]
  },
  {
   "cell_type": "code",
   "execution_count": 10,
   "metadata": {
    "execution": {
     "iopub.execute_input": "2021-01-13T11:27:47.192880Z",
     "iopub.status.busy": "2021-01-13T11:27:47.191998Z",
     "iopub.status.idle": "2021-01-13T11:27:47.248512Z",
     "shell.execute_reply": "2021-01-13T11:27:47.249075Z"
    },
    "papermill": {
     "duration": 0.119806,
     "end_time": "2021-01-13T11:27:47.249215",
     "exception": false,
     "start_time": "2021-01-13T11:27:47.129409",
     "status": "completed"
    },
    "tags": []
   },
   "outputs": [
    {
     "data": {
      "text/html": [
       "<div>\n",
       "<style scoped>\n",
       "    .dataframe tbody tr th:only-of-type {\n",
       "        vertical-align: middle;\n",
       "    }\n",
       "\n",
       "    .dataframe tbody tr th {\n",
       "        vertical-align: top;\n",
       "    }\n",
       "\n",
       "    .dataframe thead th {\n",
       "        text-align: right;\n",
       "    }\n",
       "</style>\n",
       "<table border=\"1\" class=\"dataframe\">\n",
       "  <thead>\n",
       "    <tr style=\"text-align: right;\">\n",
       "      <th></th>\n",
       "      <th>Open</th>\n",
       "      <th>High</th>\n",
       "      <th>Low</th>\n",
       "      <th>Close</th>\n",
       "      <th>Turnover</th>\n",
       "      <th>ma7</th>\n",
       "      <th>ma21</th>\n",
       "      <th>26ema</th>\n",
       "      <th>12ema</th>\n",
       "      <th>MACD</th>\n",
       "      <th>20sd</th>\n",
       "      <th>upper_band</th>\n",
       "      <th>lower_band</th>\n",
       "      <th>ema</th>\n",
       "      <th>momentum</th>\n",
       "      <th>ARIMA</th>\n",
       "    </tr>\n",
       "    <tr>\n",
       "      <th>Date</th>\n",
       "      <th></th>\n",
       "      <th></th>\n",
       "      <th></th>\n",
       "      <th></th>\n",
       "      <th></th>\n",
       "      <th></th>\n",
       "      <th></th>\n",
       "      <th></th>\n",
       "      <th></th>\n",
       "      <th></th>\n",
       "      <th></th>\n",
       "      <th></th>\n",
       "      <th></th>\n",
       "      <th></th>\n",
       "      <th></th>\n",
       "      <th></th>\n",
       "    </tr>\n",
       "  </thead>\n",
       "  <tbody>\n",
       "    <tr>\n",
       "      <th>2000-03-01</th>\n",
       "      <td>6024.38</td>\n",
       "      <td>6102.12</td>\n",
       "      <td>5901.77</td>\n",
       "      <td>5917.37</td>\n",
       "      <td>-</td>\n",
       "      <td>NaN</td>\n",
       "      <td>NaN</td>\n",
       "      <td>5917.370000</td>\n",
       "      <td>5917.370000</td>\n",
       "      <td>0.000000</td>\n",
       "      <td>NaN</td>\n",
       "      <td>NaN</td>\n",
       "      <td>NaN</td>\n",
       "      <td>5917.370000</td>\n",
       "      <td>58.1737</td>\n",
       "      <td>0</td>\n",
       "    </tr>\n",
       "    <tr>\n",
       "      <th>2000-04-01</th>\n",
       "      <td>5922.23</td>\n",
       "      <td>5925.07</td>\n",
       "      <td>5657.20</td>\n",
       "      <td>5672.02</td>\n",
       "      <td>-</td>\n",
       "      <td>NaN</td>\n",
       "      <td>NaN</td>\n",
       "      <td>5789.976731</td>\n",
       "      <td>5784.472083</td>\n",
       "      <td>-5.504647</td>\n",
       "      <td>NaN</td>\n",
       "      <td>NaN</td>\n",
       "      <td>NaN</td>\n",
       "      <td>5733.357500</td>\n",
       "      <td>55.7202</td>\n",
       "      <td>0</td>\n",
       "    </tr>\n",
       "    <tr>\n",
       "      <th>2000-05-01</th>\n",
       "      <td>5521.83</td>\n",
       "      <td>5589.50</td>\n",
       "      <td>5461.59</td>\n",
       "      <td>5479.70</td>\n",
       "      <td>-</td>\n",
       "      <td>NaN</td>\n",
       "      <td>NaN</td>\n",
       "      <td>5678.497314</td>\n",
       "      <td>5665.519469</td>\n",
       "      <td>-12.977845</td>\n",
       "      <td>NaN</td>\n",
       "      <td>NaN</td>\n",
       "      <td>NaN</td>\n",
       "      <td>5557.748462</td>\n",
       "      <td>53.7970</td>\n",
       "      <td>0</td>\n",
       "    </tr>\n",
       "    <tr>\n",
       "      <th>2000-06-01</th>\n",
       "      <td>5485.93</td>\n",
       "      <td>5530.26</td>\n",
       "      <td>5388.85</td>\n",
       "      <td>5450.11</td>\n",
       "      <td>-</td>\n",
       "      <td>NaN</td>\n",
       "      <td>NaN</td>\n",
       "      <td>5614.650201</td>\n",
       "      <td>5597.523118</td>\n",
       "      <td>-17.127084</td>\n",
       "      <td>NaN</td>\n",
       "      <td>NaN</td>\n",
       "      <td>NaN</td>\n",
       "      <td>5485.092500</td>\n",
       "      <td>53.5011</td>\n",
       "      <td>0</td>\n",
       "    </tr>\n",
       "    <tr>\n",
       "      <th>2000-07-01</th>\n",
       "      <td>5423.88</td>\n",
       "      <td>5561.69</td>\n",
       "      <td>5423.88</td>\n",
       "      <td>5539.61</td>\n",
       "      <td>-</td>\n",
       "      <td>NaN</td>\n",
       "      <td>NaN</td>\n",
       "      <td>5597.248069</td>\n",
       "      <td>5581.788331</td>\n",
       "      <td>-15.459738</td>\n",
       "      <td>NaN</td>\n",
       "      <td>NaN</td>\n",
       "      <td>NaN</td>\n",
       "      <td>5521.587686</td>\n",
       "      <td>54.3961</td>\n",
       "      <td>0</td>\n",
       "    </tr>\n",
       "  </tbody>\n",
       "</table>\n",
       "</div>"
      ],
      "text/plain": [
       "               Open     High      Low    Close Turnover  ma7  ma21  \\\n",
       "Date                                                                 \n",
       "2000-03-01  6024.38  6102.12  5901.77  5917.37        -  NaN   NaN   \n",
       "2000-04-01  5922.23  5925.07  5657.20  5672.02        -  NaN   NaN   \n",
       "2000-05-01  5521.83  5589.50  5461.59  5479.70        -  NaN   NaN   \n",
       "2000-06-01  5485.93  5530.26  5388.85  5450.11        -  NaN   NaN   \n",
       "2000-07-01  5423.88  5561.69  5423.88  5539.61        -  NaN   NaN   \n",
       "\n",
       "                  26ema        12ema       MACD  20sd  upper_band  lower_band  \\\n",
       "Date                                                                            \n",
       "2000-03-01  5917.370000  5917.370000   0.000000   NaN         NaN         NaN   \n",
       "2000-04-01  5789.976731  5784.472083  -5.504647   NaN         NaN         NaN   \n",
       "2000-05-01  5678.497314  5665.519469 -12.977845   NaN         NaN         NaN   \n",
       "2000-06-01  5614.650201  5597.523118 -17.127084   NaN         NaN         NaN   \n",
       "2000-07-01  5597.248069  5581.788331 -15.459738   NaN         NaN         NaN   \n",
       "\n",
       "                    ema  momentum  ARIMA  \n",
       "Date                                      \n",
       "2000-03-01  5917.370000   58.1737      0  \n",
       "2000-04-01  5733.357500   55.7202      0  \n",
       "2000-05-01  5557.748462   53.7970      0  \n",
       "2000-06-01  5485.092500   53.5011      0  \n",
       "2000-07-01  5521.587686   54.3961      0  "
      ]
     },
     "execution_count": 10,
     "metadata": {},
     "output_type": "execute_result"
    }
   ],
   "source": [
    "cac1_df = get_technical_indicators(cac_df)\n",
    "cac1_df.head()"
   ]
  },
  {
   "cell_type": "code",
   "execution_count": 11,
   "metadata": {
    "execution": {
     "iopub.execute_input": "2021-01-13T11:27:47.370349Z",
     "iopub.status.busy": "2021-01-13T11:27:47.369666Z",
     "iopub.status.idle": "2021-01-13T11:27:47.698916Z",
     "shell.execute_reply": "2021-01-13T11:27:47.698381Z"
    },
    "papermill": {
     "duration": 0.390765,
     "end_time": "2021-01-13T11:27:47.699033",
     "exception": false,
     "start_time": "2021-01-13T11:27:47.308268",
     "status": "completed"
    },
    "tags": []
   },
   "outputs": [
    {
     "data": {
      "image/png": "[encoded data removed]",
      "text/plain": [
       "<Figure size 432x288 with 1 Axes>"
      ]
     },
     "metadata": {
      "needs_background": "light"
     },
     "output_type": "display_data"
    }
   ],
   "source": [
    "cac1_df[['Open','Close']].plot()\n",
    "plt.show()"
   ]
  },
  {
   "cell_type": "markdown",
   "metadata": {
    "papermill": {
     "duration": 0.059569,
     "end_time": "2021-01-13T11:27:47.818640",
     "exception": false,
     "start_time": "2021-01-13T11:27:47.759071",
     "status": "completed"
    },
    "tags": []
   },
   "source": [
    "### 1.6. Split Dataset to train and test data"
   ]
  },
  {
   "cell_type": "code",
   "execution_count": 12,
   "metadata": {
    "execution": {
     "iopub.execute_input": "2021-01-13T11:27:47.950846Z",
     "iopub.status.busy": "2021-01-13T11:27:47.950190Z",
     "iopub.status.idle": "2021-01-13T11:27:47.953195Z",
     "shell.execute_reply": "2021-01-13T11:27:47.952591Z"
    },
    "papermill": {
     "duration": 0.071556,
     "end_time": "2021-01-13T11:27:47.953318",
     "exception": false,
     "start_time": "2021-01-13T11:27:47.881762",
     "status": "completed"
    },
    "tags": []
   },
   "outputs": [],
   "source": [
    "train_data, test_data = cac1_df[0:int(len(cac1_df)*0.7)], cac1_df[int(len(cac1_df)*0.7):]\n",
    "training_data = train_data['Close'].values\n",
    "test_data = test_data['Close'].values"
   ]
  },
  {
   "cell_type": "markdown",
   "metadata": {
    "papermill": {
     "duration": 0.059449,
     "end_time": "2021-01-13T11:27:48.072763",
     "exception": false,
     "start_time": "2021-01-13T11:27:48.013314",
     "status": "completed"
    },
    "tags": []
   },
   "source": [
    "### 1.7. Plot Training Data & Observation Data Trends"
   ]
  },
  {
   "cell_type": "code",
   "execution_count": 13,
   "metadata": {
    "execution": {
     "iopub.execute_input": "2021-01-13T11:27:48.196934Z",
     "iopub.status.busy": "2021-01-13T11:27:48.196214Z",
     "iopub.status.idle": "2021-01-13T11:27:48.198439Z",
     "shell.execute_reply": "2021-01-13T11:27:48.199000Z"
    },
    "papermill": {
     "duration": 0.066666,
     "end_time": "2021-01-13T11:27:48.199140",
     "exception": false,
     "start_time": "2021-01-13T11:27:48.132474",
     "status": "completed"
    },
    "tags": []
   },
   "outputs": [],
   "source": [
    "training_data1=pd.Series(training_data)"
   ]
  },
  {
   "cell_type": "code",
   "execution_count": 14,
   "metadata": {
    "execution": {
     "iopub.execute_input": "2021-01-13T11:27:48.327598Z",
     "iopub.status.busy": "2021-01-13T11:27:48.326917Z",
     "iopub.status.idle": "2021-01-13T11:27:48.493029Z",
     "shell.execute_reply": "2021-01-13T11:27:48.492422Z"
    },
    "papermill": {
     "duration": 0.233903,
     "end_time": "2021-01-13T11:27:48.493146",
     "exception": false,
     "start_time": "2021-01-13T11:27:48.259243",
     "status": "completed"
    },
    "tags": []
   },
   "outputs": [
    {
     "data": {
      "image/png": "[encoded data removed]",
      "text/plain": [
       "<Figure size 1080x432 with 1 Axes>"
      ]
     },
     "metadata": {
      "needs_background": "light"
     },
     "output_type": "display_data"
    }
   ],
   "source": [
    "#plot training_data\n",
    "training_data1.plot(figsize=(15, 6))\n",
    "plt.show()"
   ]
  },
  {
   "cell_type": "markdown",
   "metadata": {
    "papermill": {
     "duration": 0.061432,
     "end_time": "2021-01-13T11:27:48.616881",
     "exception": false,
     "start_time": "2021-01-13T11:27:48.555449",
     "status": "completed"
    },
    "tags": []
   },
   "source": [
    "---"
   ]
  },
  {
   "cell_type": "markdown",
   "metadata": {
    "papermill": {
     "duration": 0.062446,
     "end_time": "2021-01-13T11:27:48.742054",
     "exception": false,
     "start_time": "2021-01-13T11:27:48.679608",
     "status": "completed"
    },
    "tags": []
   },
   "source": [
    "## Part 2. CAC 40 Stock Price Forecast with ARIMA"
   ]
  },
  {
   "cell_type": "markdown",
   "metadata": {
    "papermill": {
     "duration": 0.063372,
     "end_time": "2021-01-13T11:27:48.867648",
     "exception": false,
     "start_time": "2021-01-13T11:27:48.804276",
     "status": "completed"
    },
    "tags": []
   },
   "source": [
    "### 2.1. Make First Order Difference or Second Order Difference"
   ]
  },
  {
   "cell_type": "markdown",
   "metadata": {
    "papermill": {
     "duration": 0.061588,
     "end_time": "2021-01-13T11:27:48.992532",
     "exception": false,
     "start_time": "2021-01-13T11:27:48.930944",
     "status": "completed"
    },
    "tags": []
   },
   "source": [
    "#### 2.1.1. Make First Order Difference"
   ]
  },
  {
   "cell_type": "code",
   "execution_count": 15,
   "metadata": {
    "execution": {
     "iopub.execute_input": "2021-01-13T11:27:49.122215Z",
     "iopub.status.busy": "2021-01-13T11:27:49.121550Z",
     "iopub.status.idle": "2021-01-13T11:27:49.124356Z",
     "shell.execute_reply": "2021-01-13T11:27:49.123852Z"
    },
    "papermill": {
     "duration": 0.070419,
     "end_time": "2021-01-13T11:27:49.124490",
     "exception": false,
     "start_time": "2021-01-13T11:27:49.054071",
     "status": "completed"
    },
    "tags": []
   },
   "outputs": [],
   "source": [
    "cac1_df['First Order Difference'] = cac1_df['Close'] - cac1_df['Close'].shift(1)"
   ]
  },
  {
   "cell_type": "markdown",
   "metadata": {
    "papermill": {
     "duration": 0.06207,
     "end_time": "2021-01-13T11:27:49.250271",
     "exception": false,
     "start_time": "2021-01-13T11:27:49.188201",
     "status": "completed"
    },
    "tags": []
   },
   "source": [
    "#### 2.2.2. Plot the Training Data After the First Order Difference"
   ]
  },
  {
   "cell_type": "code",
   "execution_count": 16,
   "metadata": {
    "execution": {
     "iopub.execute_input": "2021-01-13T11:27:49.383643Z",
     "iopub.status.busy": "2021-01-13T11:27:49.382966Z",
     "iopub.status.idle": "2021-01-13T11:27:49.588856Z",
     "shell.execute_reply": "2021-01-13T11:27:49.588197Z"
    },
    "papermill": {
     "duration": 0.276755,
     "end_time": "2021-01-13T11:27:49.588967",
     "exception": false,
     "start_time": "2021-01-13T11:27:49.312212",
     "status": "completed"
    },
    "tags": []
   },
   "outputs": [
    {
     "data": {
      "image/png": "[encoded data removed]",
      "text/plain": [
       "<Figure size 864x432 with 1 Axes>"
      ]
     },
     "metadata": {
      "needs_background": "light"
     },
     "output_type": "display_data"
    }
   ],
   "source": [
    "cac1_df['First Order Difference'].plot(figsize=(12, 6))\n",
    "plt.show()"
   ]
  },
  {
   "cell_type": "markdown",
   "metadata": {
    "papermill": {
     "duration": 0.066247,
     "end_time": "2021-01-13T11:27:49.718528",
     "exception": false,
     "start_time": "2021-01-13T11:27:49.652281",
     "status": "completed"
    },
    "tags": []
   },
   "source": [
    "### 2.2. Draw ACF&PACF Chart and Select Hyperparameter q&p"
   ]
  },
  {
   "cell_type": "markdown",
   "metadata": {
    "papermill": {
     "duration": 0.064717,
     "end_time": "2021-01-13T11:27:49.846554",
     "exception": false,
     "start_time": "2021-01-13T11:27:49.781837",
     "status": "completed"
    },
    "tags": []
   },
   "source": [
    "#### 2.2.1. Draw ACF Chart and Chose Hyperparameter q in MA Model"
   ]
  },
  {
   "cell_type": "code",
   "execution_count": 17,
   "metadata": {
    "execution": {
     "iopub.execute_input": "2021-01-13T11:27:50.000579Z",
     "iopub.status.busy": "2021-01-13T11:27:49.999850Z",
     "iopub.status.idle": "2021-01-13T11:27:51.041542Z",
     "shell.execute_reply": "2021-01-13T11:27:51.042137Z"
    },
    "papermill": {
     "duration": 1.12278,
     "end_time": "2021-01-13T11:27:51.042292",
     "exception": false,
     "start_time": "2021-01-13T11:27:49.919512",
     "status": "completed"
    },
    "tags": []
   },
   "outputs": [],
   "source": [
    "from statsmodels.tsa.stattools import acf, pacf\n",
    "from statsmodels.graphics.tsaplots import plot_acf, plot_pacf"
   ]
  },
  {
   "cell_type": "code",
   "execution_count": 18,
   "metadata": {
    "execution": {
     "iopub.execute_input": "2021-01-13T11:27:51.179035Z",
     "iopub.status.busy": "2021-01-13T11:27:51.178170Z",
     "iopub.status.idle": "2021-01-13T11:27:52.300288Z",
     "shell.execute_reply": "2021-01-13T11:27:52.299660Z"
    },
    "papermill": {
     "duration": 1.19343,
     "end_time": "2021-01-13T11:27:52.300426",
     "exception": false,
     "start_time": "2021-01-13T11:27:51.106996",
     "status": "completed"
    },
    "tags": []
   },
   "outputs": [
    {
     "data": {
      "image/png": "[encoded data removed]",
      "text/plain": [
       "<Figure size 864x576 with 2 Axes>"
      ]
     },
     "metadata": {
      "needs_background": "light"
     },
     "output_type": "display_data"
    }
   ],
   "source": [
    "import statsmodels.api as sm\n",
    "\n",
    "fig = plt.figure(figsize=(12,8))\n",
    "ax1 = fig.add_subplot(211)\n",
    "fig = sm.graphics.tsa.plot_acf(training_data1, lags=40, ax=ax1) # \n",
    "ax2 = fig.add_subplot(212)\n",
    "fig = sm.graphics.tsa.plot_pacf(training_data1, lags=40, ax=ax2)# , lags=40"
   ]
  },
  {
   "cell_type": "markdown",
   "metadata": {
    "papermill": {
     "duration": 0.066153,
     "end_time": "2021-01-13T11:27:52.432322",
     "exception": false,
     "start_time": "2021-01-13T11:27:52.366169",
     "status": "completed"
    },
    "tags": []
   },
   "source": [
    "#### 2.2.2. Draw PACF Chart and Chose Hyperparameter p in AR Model"
   ]
  },
  {
   "cell_type": "code",
   "execution_count": 19,
   "metadata": {
    "execution": {
     "iopub.execute_input": "2021-01-13T11:27:52.575845Z",
     "iopub.status.busy": "2021-01-13T11:27:52.569471Z",
     "iopub.status.idle": "2021-01-13T11:27:52.910201Z",
     "shell.execute_reply": "2021-01-13T11:27:52.909637Z"
    },
    "papermill": {
     "duration": 0.412959,
     "end_time": "2021-01-13T11:27:52.910311",
     "exception": false,
     "start_time": "2021-01-13T11:27:52.497352",
     "status": "completed"
    },
    "tags": []
   },
   "outputs": [
    {
     "data": {
      "image/png": "[encoded data removed]",
      "text/plain": [
       "<Figure size 864x576 with 2 Axes>"
      ]
     },
     "metadata": {
      "needs_background": "light"
     },
     "output_type": "display_data"
    }
   ],
   "source": [
    "fig = plt.figure(figsize=(12,8))\n",
    "ax1 = fig.add_subplot(211)\n",
    "fig = sm.graphics.tsa.plot_acf(cac1_df.Open, lags=40, ax=ax1) # \n",
    "ax2 = fig.add_subplot(212)\n",
    "fig = sm.graphics.tsa.plot_pacf(cac1_df.Open, lags=40, ax=ax2)# , lags=40"
   ]
  },
  {
   "cell_type": "markdown",
   "metadata": {
    "papermill": {
     "duration": 0.066165,
     "end_time": "2021-01-13T11:27:53.042870",
     "exception": false,
     "start_time": "2021-01-13T11:27:52.976705",
     "status": "completed"
    },
    "tags": []
   },
   "source": [
    "### 2.3. Define then train the ARIMA Model"
   ]
  },
  {
   "cell_type": "code",
   "execution_count": 20,
   "metadata": {
    "execution": {
     "iopub.execute_input": "2021-01-13T11:27:53.181933Z",
     "iopub.status.busy": "2021-01-13T11:27:53.181096Z",
     "iopub.status.idle": "2021-01-13T11:27:53.805987Z",
     "shell.execute_reply": "2021-01-13T11:27:53.805305Z"
    },
    "papermill": {
     "duration": 0.697566,
     "end_time": "2021-01-13T11:27:53.806133",
     "exception": false,
     "start_time": "2021-01-13T11:27:53.108567",
     "status": "completed"
    },
    "tags": []
   },
   "outputs": [
    {
     "name": "stderr",
     "output_type": "stream",
     "text": [
      "/opt/conda/lib/python3.7/site-packages/statsmodels/tsa/base/tsa_model.py:218: ValueWarning: A date index has been provided, but it has no associated frequency information and so will be ignored when e.g. forecasting.\n",
      "  ' ignored when e.g. forecasting.', ValueWarning)\n",
      "/opt/conda/lib/python3.7/site-packages/statsmodels/tsa/base/tsa_model.py:222: ValueWarning: A date index has been provided, but it is not monotonic and so will be ignored when e.g. forecasting.\n",
      "  ' forecasting.', ValueWarning)\n",
      "/opt/conda/lib/python3.7/site-packages/statsmodels/tsa/base/tsa_model.py:218: ValueWarning: A date index has been provided, but it has no associated frequency information and so will be ignored when e.g. forecasting.\n",
      "  ' ignored when e.g. forecasting.', ValueWarning)\n",
      "/opt/conda/lib/python3.7/site-packages/statsmodels/tsa/base/tsa_model.py:222: ValueWarning: A date index has been provided, but it is not monotonic and so will be ignored when e.g. forecasting.\n",
      "  ' forecasting.', ValueWarning)\n"
     ]
    },
    {
     "name": "stdout",
     "output_type": "stream",
     "text": [
      "                             ARIMA Model Results                              \n",
      "==============================================================================\n",
      "Dep. Variable:                D.Close   No. Observations:                 4840\n",
      "Model:                 ARIMA(5, 1, 0)   Log Likelihood              -26541.028\n",
      "Method:                       css-mle   S.D. of innovations             58.250\n",
      "Date:                Wed, 13 Jan 2021   AIC                          53096.056\n",
      "Time:                        11:27:53   BIC                          53141.448\n",
      "Sample:                             1   HQIC                         53111.991\n",
      "                                                                              \n",
      "=================================================================================\n",
      "                    coef    std err          z      P>|z|      [0.025      0.975]\n",
      "---------------------------------------------------------------------------------\n",
      "const            -0.1774      0.728     -0.244      0.807      -1.604       1.249\n",
      "ar.L1.D.Close    -0.0307      0.014     -2.136      0.033      -0.059      -0.003\n",
      "ar.L2.D.Close    -0.0366      0.014     -2.539      0.011      -0.065      -0.008\n",
      "ar.L3.D.Close    -0.0386      0.014     -2.677      0.007      -0.067      -0.010\n",
      "ar.L4.D.Close     0.0018      0.014      0.128      0.898      -0.026       0.030\n",
      "ar.L5.D.Close    -0.0467      0.014     -3.239      0.001      -0.075      -0.018\n",
      "                                    Roots                                    \n",
      "=============================================================================\n",
      "                  Real          Imaginary           Modulus         Frequency\n",
      "-----------------------------------------------------------------------------\n",
      "AR.1           -1.7768           -0.0000j            1.7768           -0.5000\n",
      "AR.2            1.4181           -1.1974j            1.8560           -0.1116\n",
      "AR.3            1.4181           +1.1974j            1.8560            0.1116\n",
      "AR.4           -0.5100           -1.8005j            1.8713           -0.2939\n",
      "AR.5           -0.5100           +1.8005j            1.8713            0.2939\n",
      "-----------------------------------------------------------------------------\n"
     ]
    }
   ],
   "source": [
    "from statsmodels.tsa.arima_model import ARIMA\n",
    "from pandas import DataFrame\n",
    "from pandas import datetime\n",
    "\n",
    "series = cac1_df['Close']\n",
    "model = ARIMA(series, order=(5, 1, 0))\n",
    "model_fit = model.fit(disp=0)\n",
    "print(model_fit.summary())\n"
   ]
  },
  {
   "cell_type": "code",
   "execution_count": 21,
   "metadata": {
    "execution": {
     "iopub.execute_input": "2021-01-13T11:27:53.949320Z",
     "iopub.status.busy": "2021-01-13T11:27:53.948244Z",
     "iopub.status.idle": "2021-01-13T11:27:54.215104Z",
     "shell.execute_reply": "2021-01-13T11:27:54.214528Z"
    },
    "papermill": {
     "duration": 0.339211,
     "end_time": "2021-01-13T11:27:54.215220",
     "exception": false,
     "start_time": "2021-01-13T11:27:53.876009",
     "status": "completed"
    },
    "tags": []
   },
   "outputs": [
    {
     "data": {
      "image/png": "[encoded data removed]",
      "text/plain": [
       "<Figure size 432x288 with 1 Axes>"
      ]
     },
     "metadata": {
      "needs_background": "light"
     },
     "output_type": "display_data"
    },
    {
     "data": {
      "text/plain": [
       "<Figure size 800x560 with 0 Axes>"
      ]
     },
     "metadata": {},
     "output_type": "display_data"
    }
   ],
   "source": [
    "from pandas.plotting import autocorrelation_plot\n",
    "autocorrelation_plot(series)\n",
    "plt.figure(figsize=(10, 7), dpi=80)\n",
    "plt.show()"
   ]
  },
  {
   "cell_type": "markdown",
   "metadata": {
    "papermill": {
     "duration": 0.067255,
     "end_time": "2021-01-13T11:27:54.350196",
     "exception": false,
     "start_time": "2021-01-13T11:27:54.282941",
     "status": "completed"
    },
    "tags": []
   },
   "source": [
    "### 2.4. Use ARIMA Model to Predict CAC 40 Stock Price After 2016 (Weekly Forecast)"
   ]
  },
  {
   "cell_type": "markdown",
   "metadata": {
    "papermill": {
     "duration": 0.067418,
     "end_time": "2021-01-13T11:27:54.485327",
     "exception": false,
     "start_time": "2021-01-13T11:27:54.417909",
     "status": "completed"
    },
    "tags": []
   },
   "source": [
    "#### 2.4.1. Use ARIMA Model to Predict"
   ]
  },
  {
   "cell_type": "code",
   "execution_count": 22,
   "metadata": {
    "execution": {
     "iopub.execute_input": "2021-01-13T11:27:54.632482Z",
     "iopub.status.busy": "2021-01-13T11:27:54.631460Z",
     "iopub.status.idle": "2021-01-13T11:35:59.429305Z",
     "shell.execute_reply": "2021-01-13T11:35:59.428659Z"
    },
    "papermill": {
     "duration": 484.875861,
     "end_time": "2021-01-13T11:35:59.429433",
     "exception": false,
     "start_time": "2021-01-13T11:27:54.553572",
     "status": "completed"
    },
    "tags": []
   },
   "outputs": [],
   "source": [
    "from statsmodels.tsa.arima_model import ARIMA\n",
    "from sklearn.metrics import mean_squared_error\n",
    "\n",
    "X = series.values\n",
    "train_data, test_data = X[0:int(len(X)*0.7)], X[int(len(X)*0.7):]\n",
    "history = [x for x in train_data]\n",
    "predictions = list()\n",
    "for t in range(len(test_data)):\n",
    "    model = ARIMA(history, order=(5, 1, 0))\n",
    "    model_fit = model.fit(disp=0)\n",
    "    output = model_fit.forecast()\n",
    "    yhat = output[0]\n",
    "    predictions.append(yhat)\n",
    "    obs = test_data[t]\n",
    "    history.append(obs)\n",
    "\n",
    "cac1_df['ARIMA'] = pd.DataFrame(predictions)"
   ]
  },
  {
   "cell_type": "markdown",
   "metadata": {
    "papermill": {
     "duration": 0.069336,
     "end_time": "2021-01-13T11:35:59.568636",
     "exception": false,
     "start_time": "2021-01-13T11:35:59.499300",
     "status": "completed"
    },
    "tags": []
   },
   "source": [
    "#### 2.4.2. Evaluation the arima predicted model using RMSE"
   ]
  },
  {
   "cell_type": "code",
   "execution_count": 23,
   "metadata": {
    "execution": {
     "iopub.execute_input": "2021-01-13T11:35:59.712487Z",
     "iopub.status.busy": "2021-01-13T11:35:59.711401Z",
     "iopub.status.idle": "2021-01-13T11:35:59.717202Z",
     "shell.execute_reply": "2021-01-13T11:35:59.717758Z"
    },
    "papermill": {
     "duration": 0.080841,
     "end_time": "2021-01-13T11:35:59.717914",
     "exception": false,
     "start_time": "2021-01-13T11:35:59.637073",
     "status": "completed"
    },
    "tags": []
   },
   "outputs": [
    {
     "name": "stdout",
     "output_type": "stream",
     "text": [
      "Test RMSE: 2401.412\n"
     ]
    }
   ],
   "source": [
    "error = mean_squared_error(test_data, predictions)\n",
    "print('Test RMSE: %.3f' % error)"
   ]
  },
  {
   "cell_type": "markdown",
   "metadata": {
    "papermill": {
     "duration": 0.070055,
     "end_time": "2021-01-13T11:35:59.857572",
     "exception": false,
     "start_time": "2021-01-13T11:35:59.787517",
     "status": "completed"
    },
    "tags": []
   },
   "source": [
    "#### 2.4.3. Plot the Predict Result"
   ]
  },
  {
   "cell_type": "code",
   "execution_count": 24,
   "metadata": {
    "execution": {
     "iopub.execute_input": "2021-01-13T11:36:00.003450Z",
     "iopub.status.busy": "2021-01-13T11:36:00.002309Z",
     "iopub.status.idle": "2021-01-13T11:36:00.251570Z",
     "shell.execute_reply": "2021-01-13T11:36:00.252085Z"
    },
    "papermill": {
     "duration": 0.324544,
     "end_time": "2021-01-13T11:36:00.252229",
     "exception": false,
     "start_time": "2021-01-13T11:35:59.927685",
     "status": "completed"
    },
    "tags": []
   },
   "outputs": [
    {
     "data": {
      "image/png": "[encoded data removed]",
      "text/plain": [
       "<Figure size 1200x600 with 1 Axes>"
      ]
     },
     "metadata": {
      "needs_background": "light"
     },
     "output_type": "display_data"
    }
   ],
   "source": [
    "# Plot the predicted (from ARIMA) and real prices\n",
    "\n",
    "plt.figure(figsize=(12, 6), dpi=100)\n",
    "plt.plot(test_data, color='black', label='Real')\n",
    "plt.plot(predictions, color='yellow', label='Predicted')\n",
    "plt.xlabel('Days')\n",
    "plt.ylabel('USD')\n",
    "plt.title('ARIMA model on CAC')\n",
    "plt.legend()\n",
    "plt.show()"
   ]
  },
  {
   "cell_type": "code",
   "execution_count": 25,
   "metadata": {
    "execution": {
     "iopub.execute_input": "2021-01-13T11:36:00.399637Z",
     "iopub.status.busy": "2021-01-13T11:36:00.398942Z",
     "iopub.status.idle": "2021-01-13T11:36:00.423118Z",
     "shell.execute_reply": "2021-01-13T11:36:00.423591Z"
    },
    "papermill": {
     "duration": 0.099385,
     "end_time": "2021-01-13T11:36:00.423735",
     "exception": false,
     "start_time": "2021-01-13T11:36:00.324350",
     "status": "completed"
    },
    "tags": []
   },
   "outputs": [
    {
     "data": {
      "text/html": [
       "<div>\n",
       "<style scoped>\n",
       "    .dataframe tbody tr th:only-of-type {\n",
       "        vertical-align: middle;\n",
       "    }\n",
       "\n",
       "    .dataframe tbody tr th {\n",
       "        vertical-align: top;\n",
       "    }\n",
       "\n",
       "    .dataframe thead th {\n",
       "        text-align: right;\n",
       "    }\n",
       "</style>\n",
       "<table border=\"1\" class=\"dataframe\">\n",
       "  <thead>\n",
       "    <tr style=\"text-align: right;\">\n",
       "      <th></th>\n",
       "      <th>Open</th>\n",
       "      <th>High</th>\n",
       "      <th>Low</th>\n",
       "      <th>Close</th>\n",
       "      <th>Turnover</th>\n",
       "      <th>ma7</th>\n",
       "      <th>ma21</th>\n",
       "      <th>26ema</th>\n",
       "      <th>12ema</th>\n",
       "      <th>MACD</th>\n",
       "      <th>20sd</th>\n",
       "      <th>upper_band</th>\n",
       "      <th>lower_band</th>\n",
       "      <th>ema</th>\n",
       "      <th>momentum</th>\n",
       "      <th>ARIMA</th>\n",
       "      <th>First Order Difference</th>\n",
       "    </tr>\n",
       "    <tr>\n",
       "      <th>Date</th>\n",
       "      <th></th>\n",
       "      <th></th>\n",
       "      <th></th>\n",
       "      <th></th>\n",
       "      <th></th>\n",
       "      <th></th>\n",
       "      <th></th>\n",
       "      <th></th>\n",
       "      <th></th>\n",
       "      <th></th>\n",
       "      <th></th>\n",
       "      <th></th>\n",
       "      <th></th>\n",
       "      <th></th>\n",
       "      <th></th>\n",
       "      <th></th>\n",
       "      <th></th>\n",
       "    </tr>\n",
       "  </thead>\n",
       "  <tbody>\n",
       "    <tr>\n",
       "      <th>2000-03-01</th>\n",
       "      <td>6024.38</td>\n",
       "      <td>6102.12</td>\n",
       "      <td>5901.77</td>\n",
       "      <td>5917.37</td>\n",
       "      <td>-</td>\n",
       "      <td>NaN</td>\n",
       "      <td>NaN</td>\n",
       "      <td>5917.370000</td>\n",
       "      <td>5917.370000</td>\n",
       "      <td>0.000000</td>\n",
       "      <td>NaN</td>\n",
       "      <td>NaN</td>\n",
       "      <td>NaN</td>\n",
       "      <td>5917.370000</td>\n",
       "      <td>58.1737</td>\n",
       "      <td>NaN</td>\n",
       "      <td>NaN</td>\n",
       "    </tr>\n",
       "    <tr>\n",
       "      <th>2000-04-01</th>\n",
       "      <td>5922.23</td>\n",
       "      <td>5925.07</td>\n",
       "      <td>5657.20</td>\n",
       "      <td>5672.02</td>\n",
       "      <td>-</td>\n",
       "      <td>NaN</td>\n",
       "      <td>NaN</td>\n",
       "      <td>5789.976731</td>\n",
       "      <td>5784.472083</td>\n",
       "      <td>-5.504647</td>\n",
       "      <td>NaN</td>\n",
       "      <td>NaN</td>\n",
       "      <td>NaN</td>\n",
       "      <td>5733.357500</td>\n",
       "      <td>55.7202</td>\n",
       "      <td>NaN</td>\n",
       "      <td>-245.35</td>\n",
       "    </tr>\n",
       "    <tr>\n",
       "      <th>2000-05-01</th>\n",
       "      <td>5521.83</td>\n",
       "      <td>5589.50</td>\n",
       "      <td>5461.59</td>\n",
       "      <td>5479.70</td>\n",
       "      <td>-</td>\n",
       "      <td>NaN</td>\n",
       "      <td>NaN</td>\n",
       "      <td>5678.497314</td>\n",
       "      <td>5665.519469</td>\n",
       "      <td>-12.977845</td>\n",
       "      <td>NaN</td>\n",
       "      <td>NaN</td>\n",
       "      <td>NaN</td>\n",
       "      <td>5557.748462</td>\n",
       "      <td>53.7970</td>\n",
       "      <td>NaN</td>\n",
       "      <td>-192.32</td>\n",
       "    </tr>\n",
       "    <tr>\n",
       "      <th>2000-06-01</th>\n",
       "      <td>5485.93</td>\n",
       "      <td>5530.26</td>\n",
       "      <td>5388.85</td>\n",
       "      <td>5450.11</td>\n",
       "      <td>-</td>\n",
       "      <td>NaN</td>\n",
       "      <td>NaN</td>\n",
       "      <td>5614.650201</td>\n",
       "      <td>5597.523118</td>\n",
       "      <td>-17.127084</td>\n",
       "      <td>NaN</td>\n",
       "      <td>NaN</td>\n",
       "      <td>NaN</td>\n",
       "      <td>5485.092500</td>\n",
       "      <td>53.5011</td>\n",
       "      <td>NaN</td>\n",
       "      <td>-29.59</td>\n",
       "    </tr>\n",
       "    <tr>\n",
       "      <th>2000-07-01</th>\n",
       "      <td>5423.88</td>\n",
       "      <td>5561.69</td>\n",
       "      <td>5423.88</td>\n",
       "      <td>5539.61</td>\n",
       "      <td>-</td>\n",
       "      <td>NaN</td>\n",
       "      <td>NaN</td>\n",
       "      <td>5597.248069</td>\n",
       "      <td>5581.788331</td>\n",
       "      <td>-15.459738</td>\n",
       "      <td>NaN</td>\n",
       "      <td>NaN</td>\n",
       "      <td>NaN</td>\n",
       "      <td>5521.587686</td>\n",
       "      <td>54.3961</td>\n",
       "      <td>NaN</td>\n",
       "      <td>89.50</td>\n",
       "    </tr>\n",
       "    <tr>\n",
       "      <th>2000-10-01</th>\n",
       "      <td>5625.82</td>\n",
       "      <td>5717.44</td>\n",
       "      <td>5616.98</td>\n",
       "      <td>5646.12</td>\n",
       "      <td>-</td>\n",
       "      <td>NaN</td>\n",
       "      <td>NaN</td>\n",
       "      <td>5607.036727</td>\n",
       "      <td>5597.424311</td>\n",
       "      <td>-9.612416</td>\n",
       "      <td>NaN</td>\n",
       "      <td>NaN</td>\n",
       "      <td>NaN</td>\n",
       "      <td>5604.723269</td>\n",
       "      <td>55.4612</td>\n",
       "      <td>NaN</td>\n",
       "      <td>106.51</td>\n",
       "    </tr>\n",
       "    <tr>\n",
       "      <th>2000-11-01</th>\n",
       "      <td>5726.51</td>\n",
       "      <td>5726.51</td>\n",
       "      <td>5571.99</td>\n",
       "      <td>5613.90</td>\n",
       "      <td>-</td>\n",
       "      <td>5616.975714</td>\n",
       "      <td>NaN</td>\n",
       "      <td>5608.257325</td>\n",
       "      <td>5601.100803</td>\n",
       "      <td>-7.156521</td>\n",
       "      <td>NaN</td>\n",
       "      <td>NaN</td>\n",
       "      <td>NaN</td>\n",
       "      <td>5610.843888</td>\n",
       "      <td>55.1390</td>\n",
       "      <td>NaN</td>\n",
       "      <td>-32.22</td>\n",
       "    </tr>\n",
       "    <tr>\n",
       "      <th>2000-12-01</th>\n",
       "      <td>5541.23</td>\n",
       "      <td>5628.73</td>\n",
       "      <td>5536.50</td>\n",
       "      <td>5582.50</td>\n",
       "      <td>-</td>\n",
       "      <td>5569.137143</td>\n",
       "      <td>NaN</td>\n",
       "      <td>5604.107181</td>\n",
       "      <td>5597.219102</td>\n",
       "      <td>-6.888079</td>\n",
       "      <td>NaN</td>\n",
       "      <td>NaN</td>\n",
       "      <td>NaN</td>\n",
       "      <td>5591.945082</td>\n",
       "      <td>54.8250</td>\n",
       "      <td>NaN</td>\n",
       "      <td>-31.40</td>\n",
       "    </tr>\n",
       "  </tbody>\n",
       "</table>\n",
       "</div>"
      ],
      "text/plain": [
       "               Open     High      Low    Close Turnover          ma7  ma21  \\\n",
       "Date                                                                         \n",
       "2000-03-01  6024.38  6102.12  5901.77  5917.37        -          NaN   NaN   \n",
       "2000-04-01  5922.23  5925.07  5657.20  5672.02        -          NaN   NaN   \n",
       "2000-05-01  5521.83  5589.50  5461.59  5479.70        -          NaN   NaN   \n",
       "2000-06-01  5485.93  5530.26  5388.85  5450.11        -          NaN   NaN   \n",
       "2000-07-01  5423.88  5561.69  5423.88  5539.61        -          NaN   NaN   \n",
       "2000-10-01  5625.82  5717.44  5616.98  5646.12        -          NaN   NaN   \n",
       "2000-11-01  5726.51  5726.51  5571.99  5613.90        -  5616.975714   NaN   \n",
       "2000-12-01  5541.23  5628.73  5536.50  5582.50        -  5569.137143   NaN   \n",
       "\n",
       "                  26ema        12ema       MACD  20sd  upper_band  lower_band  \\\n",
       "Date                                                                            \n",
       "2000-03-01  5917.370000  5917.370000   0.000000   NaN         NaN         NaN   \n",
       "2000-04-01  5789.976731  5784.472083  -5.504647   NaN         NaN         NaN   \n",
       "2000-05-01  5678.497314  5665.519469 -12.977845   NaN         NaN         NaN   \n",
       "2000-06-01  5614.650201  5597.523118 -17.127084   NaN         NaN         NaN   \n",
       "2000-07-01  5597.248069  5581.788331 -15.459738   NaN         NaN         NaN   \n",
       "2000-10-01  5607.036727  5597.424311  -9.612416   NaN         NaN         NaN   \n",
       "2000-11-01  5608.257325  5601.100803  -7.156521   NaN         NaN         NaN   \n",
       "2000-12-01  5604.107181  5597.219102  -6.888079   NaN         NaN         NaN   \n",
       "\n",
       "                    ema  momentum  ARIMA  First Order Difference  \n",
       "Date                                                              \n",
       "2000-03-01  5917.370000   58.1737    NaN                     NaN  \n",
       "2000-04-01  5733.357500   55.7202    NaN                 -245.35  \n",
       "2000-05-01  5557.748462   53.7970    NaN                 -192.32  \n",
       "2000-06-01  5485.092500   53.5011    NaN                  -29.59  \n",
       "2000-07-01  5521.587686   54.3961    NaN                   89.50  \n",
       "2000-10-01  5604.723269   55.4612    NaN                  106.51  \n",
       "2000-11-01  5610.843888   55.1390    NaN                  -32.22  \n",
       "2000-12-01  5591.945082   54.8250    NaN                  -31.40  "
      ]
     },
     "execution_count": 25,
     "metadata": {},
     "output_type": "execute_result"
    }
   ],
   "source": [
    "cac1_df.head(8)"
   ]
  },
  {
   "cell_type": "code",
   "execution_count": 26,
   "metadata": {
    "execution": {
     "iopub.execute_input": "2021-01-13T11:36:00.576037Z",
     "iopub.status.busy": "2021-01-13T11:36:00.575291Z",
     "iopub.status.idle": "2021-01-13T11:36:00.579217Z",
     "shell.execute_reply": "2021-01-13T11:36:00.578618Z"
    },
    "papermill": {
     "duration": 0.082709,
     "end_time": "2021-01-13T11:36:00.579346",
     "exception": false,
     "start_time": "2021-01-13T11:36:00.496637",
     "status": "completed"
    },
    "tags": []
   },
   "outputs": [
    {
     "name": "stdout",
     "output_type": "stream",
     "text": [
      "Total dataset has 4841 samples, and 17 features.\n"
     ]
    }
   ],
   "source": [
    "print('Total dataset has {} samples, and {} features.'.format(cac1_df.shape[0], \\\n",
    "                                                              cac1_df.shape[1]))"
   ]
  },
  {
   "cell_type": "markdown",
   "metadata": {
    "papermill": {
     "duration": 0.072423,
     "end_time": "2021-01-13T11:36:00.724950",
     "exception": false,
     "start_time": "2021-01-13T11:36:00.652527",
     "status": "completed"
    },
    "tags": []
   },
   "source": [
    "---"
   ]
  },
  {
   "cell_type": "markdown",
   "metadata": {
    "papermill": {
     "duration": 0.075008,
     "end_time": "2021-01-13T11:36:00.873236",
     "exception": false,
     "start_time": "2021-01-13T11:36:00.798228",
     "status": "completed"
    },
    "tags": []
   },
   "source": [
    "## Part 3. CAC 40 Stock Price Forecast with LSTM [optional]"
   ]
  },
  {
   "cell_type": "markdown",
   "metadata": {
    "papermill": {
     "duration": 0.074372,
     "end_time": "2021-01-13T11:36:01.020626",
     "exception": false,
     "start_time": "2021-01-13T11:36:00.946254",
     "status": "completed"
    },
    "tags": []
   },
   "source": [
    "#### instead of using the ARIMA model use LSTM and do the same steps as ARIMA one. You may also need to add a normalisation step in the pre processing part"
   ]
  },
  {
   "cell_type": "code",
   "execution_count": 27,
   "metadata": {
    "execution": {
     "iopub.execute_input": "2021-01-13T11:36:01.191050Z",
     "iopub.status.busy": "2021-01-13T11:36:01.190211Z",
     "iopub.status.idle": "2021-01-13T11:36:01.195980Z",
     "shell.execute_reply": "2021-01-13T11:36:01.195376Z"
    },
    "papermill": {
     "duration": 0.099765,
     "end_time": "2021-01-13T11:36:01.196112",
     "exception": false,
     "start_time": "2021-01-13T11:36:01.096347",
     "status": "completed"
    },
    "tags": []
   },
   "outputs": [
    {
     "data": {
      "text/html": [
       "<div>\n",
       "<style scoped>\n",
       "    .dataframe tbody tr th:only-of-type {\n",
       "        vertical-align: middle;\n",
       "    }\n",
       "\n",
       "    .dataframe tbody tr th {\n",
       "        vertical-align: top;\n",
       "    }\n",
       "\n",
       "    .dataframe thead th {\n",
       "        text-align: right;\n",
       "    }\n",
       "</style>\n",
       "<table border=\"1\" class=\"dataframe\">\n",
       "  <thead>\n",
       "    <tr style=\"text-align: right;\">\n",
       "      <th></th>\n",
       "      <th>Open</th>\n",
       "      <th>High</th>\n",
       "      <th>Low</th>\n",
       "      <th>Close</th>\n",
       "      <th>Turnover</th>\n",
       "      <th>ma7</th>\n",
       "      <th>ma21</th>\n",
       "      <th>26ema</th>\n",
       "      <th>12ema</th>\n",
       "      <th>MACD</th>\n",
       "      <th>20sd</th>\n",
       "      <th>upper_band</th>\n",
       "      <th>lower_band</th>\n",
       "      <th>ema</th>\n",
       "      <th>momentum</th>\n",
       "      <th>ARIMA</th>\n",
       "      <th>First Order Difference</th>\n",
       "    </tr>\n",
       "    <tr>\n",
       "      <th>Date</th>\n",
       "      <th></th>\n",
       "      <th></th>\n",
       "      <th></th>\n",
       "      <th></th>\n",
       "      <th></th>\n",
       "      <th></th>\n",
       "      <th></th>\n",
       "      <th></th>\n",
       "      <th></th>\n",
       "      <th></th>\n",
       "      <th></th>\n",
       "      <th></th>\n",
       "      <th></th>\n",
       "      <th></th>\n",
       "      <th></th>\n",
       "      <th></th>\n",
       "      <th></th>\n",
       "    </tr>\n",
       "  </thead>\n",
       "  <tbody>\n",
       "    <tr>\n",
       "      <th>2000-03-01</th>\n",
       "      <td>6024.38</td>\n",
       "      <td>6102.12</td>\n",
       "      <td>5901.77</td>\n",
       "      <td>5917.37</td>\n",
       "      <td>-</td>\n",
       "      <td>NaN</td>\n",
       "      <td>NaN</td>\n",
       "      <td>5917.370000</td>\n",
       "      <td>5917.370000</td>\n",
       "      <td>0.000000</td>\n",
       "      <td>NaN</td>\n",
       "      <td>NaN</td>\n",
       "      <td>NaN</td>\n",
       "      <td>5917.370000</td>\n",
       "      <td>58.1737</td>\n",
       "      <td>NaN</td>\n",
       "      <td>NaN</td>\n",
       "    </tr>\n",
       "    <tr>\n",
       "      <th>2000-04-01</th>\n",
       "      <td>5922.23</td>\n",
       "      <td>5925.07</td>\n",
       "      <td>5657.20</td>\n",
       "      <td>5672.02</td>\n",
       "      <td>-</td>\n",
       "      <td>NaN</td>\n",
       "      <td>NaN</td>\n",
       "      <td>5789.976731</td>\n",
       "      <td>5784.472083</td>\n",
       "      <td>-5.504647</td>\n",
       "      <td>NaN</td>\n",
       "      <td>NaN</td>\n",
       "      <td>NaN</td>\n",
       "      <td>5733.357500</td>\n",
       "      <td>55.7202</td>\n",
       "      <td>NaN</td>\n",
       "      <td>-245.35</td>\n",
       "    </tr>\n",
       "    <tr>\n",
       "      <th>2000-05-01</th>\n",
       "      <td>5521.83</td>\n",
       "      <td>5589.50</td>\n",
       "      <td>5461.59</td>\n",
       "      <td>5479.70</td>\n",
       "      <td>-</td>\n",
       "      <td>NaN</td>\n",
       "      <td>NaN</td>\n",
       "      <td>5678.497314</td>\n",
       "      <td>5665.519469</td>\n",
       "      <td>-12.977845</td>\n",
       "      <td>NaN</td>\n",
       "      <td>NaN</td>\n",
       "      <td>NaN</td>\n",
       "      <td>5557.748462</td>\n",
       "      <td>53.7970</td>\n",
       "      <td>NaN</td>\n",
       "      <td>-192.32</td>\n",
       "    </tr>\n",
       "    <tr>\n",
       "      <th>2000-06-01</th>\n",
       "      <td>5485.93</td>\n",
       "      <td>5530.26</td>\n",
       "      <td>5388.85</td>\n",
       "      <td>5450.11</td>\n",
       "      <td>-</td>\n",
       "      <td>NaN</td>\n",
       "      <td>NaN</td>\n",
       "      <td>5614.650201</td>\n",
       "      <td>5597.523118</td>\n",
       "      <td>-17.127084</td>\n",
       "      <td>NaN</td>\n",
       "      <td>NaN</td>\n",
       "      <td>NaN</td>\n",
       "      <td>5485.092500</td>\n",
       "      <td>53.5011</td>\n",
       "      <td>NaN</td>\n",
       "      <td>-29.59</td>\n",
       "    </tr>\n",
       "    <tr>\n",
       "      <th>2000-07-01</th>\n",
       "      <td>5423.88</td>\n",
       "      <td>5561.69</td>\n",
       "      <td>5423.88</td>\n",
       "      <td>5539.61</td>\n",
       "      <td>-</td>\n",
       "      <td>NaN</td>\n",
       "      <td>NaN</td>\n",
       "      <td>5597.248069</td>\n",
       "      <td>5581.788331</td>\n",
       "      <td>-15.459738</td>\n",
       "      <td>NaN</td>\n",
       "      <td>NaN</td>\n",
       "      <td>NaN</td>\n",
       "      <td>5521.587686</td>\n",
       "      <td>54.3961</td>\n",
       "      <td>NaN</td>\n",
       "      <td>89.50</td>\n",
       "    </tr>\n",
       "  </tbody>\n",
       "</table>\n",
       "</div>"
      ],
      "text/plain": [
       "               Open     High      Low    Close Turnover  ma7  ma21  \\\n",
       "Date                                                                 \n",
       "2000-03-01  6024.38  6102.12  5901.77  5917.37        -  NaN   NaN   \n",
       "2000-04-01  5922.23  5925.07  5657.20  5672.02        -  NaN   NaN   \n",
       "2000-05-01  5521.83  5589.50  5461.59  5479.70        -  NaN   NaN   \n",
       "2000-06-01  5485.93  5530.26  5388.85  5450.11        -  NaN   NaN   \n",
       "2000-07-01  5423.88  5561.69  5423.88  5539.61        -  NaN   NaN   \n",
       "\n",
       "                  26ema        12ema       MACD  20sd  upper_band  lower_band  \\\n",
       "Date                                                                            \n",
       "2000-03-01  5917.370000  5917.370000   0.000000   NaN         NaN         NaN   \n",
       "2000-04-01  5789.976731  5784.472083  -5.504647   NaN         NaN         NaN   \n",
       "2000-05-01  5678.497314  5665.519469 -12.977845   NaN         NaN         NaN   \n",
       "2000-06-01  5614.650201  5597.523118 -17.127084   NaN         NaN         NaN   \n",
       "2000-07-01  5597.248069  5581.788331 -15.459738   NaN         NaN         NaN   \n",
       "\n",
       "                    ema  momentum  ARIMA  First Order Difference  \n",
       "Date                                                              \n",
       "2000-03-01  5917.370000   58.1737    NaN                     NaN  \n",
       "2000-04-01  5733.357500   55.7202    NaN                 -245.35  \n",
       "2000-05-01  5557.748462   53.7970    NaN                 -192.32  \n",
       "2000-06-01  5485.092500   53.5011    NaN                  -29.59  \n",
       "2000-07-01  5521.587686   54.3961    NaN                   89.50  "
      ]
     },
     "execution_count": 27,
     "metadata": {},
     "output_type": "execute_result"
    }
   ],
   "source": [
    "cac1_df.head()"
   ]
  },
  {
   "cell_type": "code",
   "execution_count": 28,
   "metadata": {
    "execution": {
     "iopub.execute_input": "2021-01-13T11:36:01.348430Z",
     "iopub.status.busy": "2021-01-13T11:36:01.347564Z",
     "iopub.status.idle": "2021-01-13T11:36:01.352190Z",
     "shell.execute_reply": "2021-01-13T11:36:01.351396Z"
    },
    "papermill": {
     "duration": 0.082775,
     "end_time": "2021-01-13T11:36:01.352353",
     "exception": false,
     "start_time": "2021-01-13T11:36:01.269578",
     "status": "completed"
    },
    "tags": []
   },
   "outputs": [
    {
     "name": "stdout",
     "output_type": "stream",
     "text": [
      "Total dataset has 4841 samples, and 17 features.\n"
     ]
    }
   ],
   "source": [
    "print('Total dataset has {} samples, and {} features.'.format(cac1_df.shape[0], \\\n",
    "                                                              cac1_df.shape[1]))"
   ]
  },
  {
   "cell_type": "markdown",
   "metadata": {
    "papermill": {
     "duration": 0.073936,
     "end_time": "2021-01-13T11:36:01.505956",
     "exception": false,
     "start_time": "2021-01-13T11:36:01.432020",
     "status": "completed"
    },
    "tags": []
   },
   "source": [
    "**Following steps are done:**\n",
    "\n",
    "**1.  Clean up the data-Remove any NAs**\n",
    "\n",
    "**2.   Create a test, train and validate set**\n",
    "\n",
    "**3.   Create train for Open**\n",
    "\n",
    "**4.   Normalize data** \n",
    "\n",
    "**5.Create feature and label set**\n",
    "\n",
    "**6. Train, test data and  check with validation set**\n",
    "\n",
    "**7. Make a prediction**\n",
    "\n",
    "**8. Based on this prediction find if the feature extraction method of LSTM works**\n",
    "\n"
   ]
  },
  {
   "cell_type": "code",
   "execution_count": 29,
   "metadata": {
    "execution": {
     "iopub.execute_input": "2021-01-13T11:36:01.663697Z",
     "iopub.status.busy": "2021-01-13T11:36:01.662805Z",
     "iopub.status.idle": "2021-01-13T11:36:08.371341Z",
     "shell.execute_reply": "2021-01-13T11:36:08.370587Z"
    },
    "papermill": {
     "duration": 6.790369,
     "end_time": "2021-01-13T11:36:08.371467",
     "exception": false,
     "start_time": "2021-01-13T11:36:01.581098",
     "status": "completed"
    },
    "tags": []
   },
   "outputs": [],
   "source": [
    "from keras.models import Sequential\n",
    "from keras.layers import Dense\n",
    "from keras.layers import LSTM\n",
    "from keras.layers import Dropout\n",
    "from keras.layers import Flatten"
   ]
  },
  {
   "cell_type": "code",
   "execution_count": 30,
   "metadata": {
    "execution": {
     "iopub.execute_input": "2021-01-13T11:36:08.528148Z",
     "iopub.status.busy": "2021-01-13T11:36:08.527159Z",
     "iopub.status.idle": "2021-01-13T11:36:08.537134Z",
     "shell.execute_reply": "2021-01-13T11:36:08.536441Z"
    },
    "papermill": {
     "duration": 0.09074,
     "end_time": "2021-01-13T11:36:08.537256",
     "exception": false,
     "start_time": "2021-01-13T11:36:08.446516",
     "status": "completed"
    },
    "tags": []
   },
   "outputs": [],
   "source": [
    "#creating test, train and validate trains\n",
    "train, validate, test = np.split(cac1_df.sample(frac=1), [int(.6*len(cac1_df)), int(.8*len(cac1_df))])"
   ]
  },
  {
   "cell_type": "markdown",
   "metadata": {
    "papermill": {
     "duration": 0.074319,
     "end_time": "2021-01-13T11:36:08.686415",
     "exception": false,
     "start_time": "2021-01-13T11:36:08.612096",
     "status": "completed"
    },
    "tags": []
   },
   "source": [
    "**Split dataset into train,test and validate sets**"
   ]
  },
  {
   "cell_type": "code",
   "execution_count": 31,
   "metadata": {
    "execution": {
     "iopub.execute_input": "2021-01-13T11:36:08.843148Z",
     "iopub.status.busy": "2021-01-13T11:36:08.842471Z",
     "iopub.status.idle": "2021-01-13T11:36:08.847076Z",
     "shell.execute_reply": "2021-01-13T11:36:08.847662Z"
    },
    "papermill": {
     "duration": 0.083734,
     "end_time": "2021-01-13T11:36:08.847833",
     "exception": false,
     "start_time": "2021-01-13T11:36:08.764099",
     "status": "completed"
    },
    "tags": []
   },
   "outputs": [],
   "source": [
    "open_training = train.iloc[:, 1:2].values"
   ]
  },
  {
   "cell_type": "markdown",
   "metadata": {
    "papermill": {
     "duration": 0.074839,
     "end_time": "2021-01-13T11:36:08.998848",
     "exception": false,
     "start_time": "2021-01-13T11:36:08.924009",
     "status": "completed"
    },
    "tags": []
   },
   "source": [
    "**Normalize data:\n",
    "The data is not normalized and the range for each column varies, especially Volume. Normalizing data helps the algorithm in converging i.e. to find local/ global minimum efficiently. I will use MinMaxScaler from Sci-kit Learn. Use a range to keep values similar for that much range**\n",
    "\n",
    "**Keep a window for the length 2000 for your data between 50 and 500...since our length is slightly more than 2000 ill make it 60 to 450**"
   ]
  },
  {
   "cell_type": "code",
   "execution_count": 32,
   "metadata": {
    "execution": {
     "iopub.execute_input": "2021-01-13T11:36:09.151107Z",
     "iopub.status.busy": "2021-01-13T11:36:09.150406Z",
     "iopub.status.idle": "2021-01-13T11:36:09.158357Z",
     "shell.execute_reply": "2021-01-13T11:36:09.158849Z"
    },
    "papermill": {
     "duration": 0.085875,
     "end_time": "2021-01-13T11:36:09.159001",
     "exception": false,
     "start_time": "2021-01-13T11:36:09.073126",
     "status": "completed"
    },
    "tags": []
   },
   "outputs": [],
   "source": [
    "#normalise\n",
    "from sklearn.preprocessing import MinMaxScaler\n",
    "scaler = MinMaxScaler(feature_range = (0, 1))\n",
    "open_training = scaler.fit_transform(open_training)\n",
    "#convert to right shape\n",
    "features_set_1 = []\n",
    "labels_1 = []\n",
    "for i in range(60,450): \n",
    "    features_set_1.append(open_training[i-60:i, 0])\n",
    "    labels_1.append(open_training[i, 0])\n",
    "    \n"
   ]
  },
  {
   "cell_type": "code",
   "execution_count": 33,
   "metadata": {
    "execution": {
     "iopub.execute_input": "2021-01-13T11:36:09.314099Z",
     "iopub.status.busy": "2021-01-13T11:36:09.313427Z",
     "iopub.status.idle": "2021-01-13T11:36:09.319928Z",
     "shell.execute_reply": "2021-01-13T11:36:09.320489Z"
    },
    "papermill": {
     "duration": 0.087326,
     "end_time": "2021-01-13T11:36:09.320647",
     "exception": false,
     "start_time": "2021-01-13T11:36:09.233321",
     "status": "completed"
    },
    "tags": []
   },
   "outputs": [],
   "source": [
    "features_set_1, labels_1 = np.array(features_set_1), np.array(labels_1)\n",
    "features_set_1 = np.reshape(features_set_1, (features_set_1.shape[0], features_set_1.shape[1], 1))"
   ]
  },
  {
   "cell_type": "code",
   "execution_count": 34,
   "metadata": {
    "execution": {
     "iopub.execute_input": "2021-01-13T11:36:09.482676Z",
     "iopub.status.busy": "2021-01-13T11:36:09.481987Z",
     "iopub.status.idle": "2021-01-13T11:37:38.604252Z",
     "shell.execute_reply": "2021-01-13T11:37:38.603623Z"
    },
    "papermill": {
     "duration": 89.206654,
     "end_time": "2021-01-13T11:37:38.604387",
     "exception": false,
     "start_time": "2021-01-13T11:36:09.397733",
     "status": "completed"
    },
    "tags": []
   },
   "outputs": [
    {
     "name": "stdout",
     "output_type": "stream",
     "text": [
      "Epoch 1/100\n",
      "13/13 [==============================] - 2s 119ms/step - loss: 0.0760 - mean_absolute_error: 0.2274 - val_loss: 0.0485 - val_mean_absolute_error: 0.1786\n",
      "Epoch 2/100\n",
      "13/13 [==============================] - 1s 63ms/step - loss: 0.0511 - mean_absolute_error: 0.1863 - val_loss: 0.0495 - val_mean_absolute_error: 0.1794\n",
      "Epoch 3/100\n",
      "13/13 [==============================] - 1s 63ms/step - loss: 0.0487 - mean_absolute_error: 0.1812 - val_loss: 0.0469 - val_mean_absolute_error: 0.1783\n",
      "Epoch 4/100\n",
      "13/13 [==============================] - 1s 59ms/step - loss: 0.0482 - mean_absolute_error: 0.1817 - val_loss: 0.0468 - val_mean_absolute_error: 0.1778\n",
      "Epoch 5/100\n",
      "13/13 [==============================] - 1s 59ms/step - loss: 0.0491 - mean_absolute_error: 0.1821 - val_loss: 0.0472 - val_mean_absolute_error: 0.1802\n",
      "Epoch 6/100\n",
      "13/13 [==============================] - 1s 59ms/step - loss: 0.0491 - mean_absolute_error: 0.1823 - val_loss: 0.0471 - val_mean_absolute_error: 0.1774\n",
      "Epoch 7/100\n",
      "13/13 [==============================] - 1s 58ms/step - loss: 0.0480 - mean_absolute_error: 0.1797 - val_loss: 0.0467 - val_mean_absolute_error: 0.1785\n",
      "Epoch 8/100\n",
      "13/13 [==============================] - 1s 59ms/step - loss: 0.0473 - mean_absolute_error: 0.1793 - val_loss: 0.0468 - val_mean_absolute_error: 0.1772\n",
      "Epoch 9/100\n",
      "13/13 [==============================] - 1s 59ms/step - loss: 0.0472 - mean_absolute_error: 0.1776 - val_loss: 0.0476 - val_mean_absolute_error: 0.1816\n",
      "Epoch 10/100\n",
      "13/13 [==============================] - 1s 59ms/step - loss: 0.0477 - mean_absolute_error: 0.1799 - val_loss: 0.0471 - val_mean_absolute_error: 0.1772\n",
      "Epoch 11/100\n",
      "13/13 [==============================] - 1s 59ms/step - loss: 0.0486 - mean_absolute_error: 0.1828 - val_loss: 0.0471 - val_mean_absolute_error: 0.1771\n",
      "Epoch 12/100\n",
      "13/13 [==============================] - 1s 60ms/step - loss: 0.0492 - mean_absolute_error: 0.1806 - val_loss: 0.0493 - val_mean_absolute_error: 0.1789\n",
      "Epoch 13/100\n",
      "13/13 [==============================] - 1s 58ms/step - loss: 0.0476 - mean_absolute_error: 0.1791 - val_loss: 0.0505 - val_mean_absolute_error: 0.1800\n",
      "Epoch 14/100\n",
      "13/13 [==============================] - 1s 58ms/step - loss: 0.0508 - mean_absolute_error: 0.1827 - val_loss: 0.0469 - val_mean_absolute_error: 0.1800\n",
      "Epoch 15/100\n",
      "13/13 [==============================] - 1s 59ms/step - loss: 0.0464 - mean_absolute_error: 0.1761 - val_loss: 0.0473 - val_mean_absolute_error: 0.1810\n",
      "Epoch 16/100\n",
      "13/13 [==============================] - 1s 64ms/step - loss: 0.0474 - mean_absolute_error: 0.1783 - val_loss: 0.0464 - val_mean_absolute_error: 0.1766\n",
      "Epoch 17/100\n",
      "13/13 [==============================] - 1s 58ms/step - loss: 0.0481 - mean_absolute_error: 0.1805 - val_loss: 0.0493 - val_mean_absolute_error: 0.1788\n",
      "Epoch 18/100\n",
      "13/13 [==============================] - 1s 59ms/step - loss: 0.0491 - mean_absolute_error: 0.1810 - val_loss: 0.0490 - val_mean_absolute_error: 0.1784\n",
      "Epoch 19/100\n",
      "13/13 [==============================] - 1s 58ms/step - loss: 0.0489 - mean_absolute_error: 0.1790 - val_loss: 0.0487 - val_mean_absolute_error: 0.1842\n",
      "Epoch 20/100\n",
      "13/13 [==============================] - 1s 58ms/step - loss: 0.0475 - mean_absolute_error: 0.1772 - val_loss: 0.0479 - val_mean_absolute_error: 0.1823\n",
      "Epoch 21/100\n",
      "13/13 [==============================] - 1s 60ms/step - loss: 0.0485 - mean_absolute_error: 0.1808 - val_loss: 0.0462 - val_mean_absolute_error: 0.1763\n",
      "Epoch 22/100\n",
      "13/13 [==============================] - 1s 58ms/step - loss: 0.0476 - mean_absolute_error: 0.1797 - val_loss: 0.0480 - val_mean_absolute_error: 0.1775\n",
      "Epoch 23/100\n",
      "13/13 [==============================] - 1s 59ms/step - loss: 0.0473 - mean_absolute_error: 0.1795 - val_loss: 0.0470 - val_mean_absolute_error: 0.1767\n",
      "Epoch 24/100\n",
      "13/13 [==============================] - 1s 60ms/step - loss: 0.0470 - mean_absolute_error: 0.1764 - val_loss: 0.0467 - val_mean_absolute_error: 0.1796\n",
      "Epoch 25/100\n",
      "13/13 [==============================] - 1s 59ms/step - loss: 0.0472 - mean_absolute_error: 0.1798 - val_loss: 0.0482 - val_mean_absolute_error: 0.1831\n",
      "Epoch 26/100\n",
      "13/13 [==============================] - 1s 62ms/step - loss: 0.0495 - mean_absolute_error: 0.1821 - val_loss: 0.0459 - val_mean_absolute_error: 0.1762\n",
      "Epoch 27/100\n",
      "13/13 [==============================] - 1s 63ms/step - loss: 0.0468 - mean_absolute_error: 0.1776 - val_loss: 0.0459 - val_mean_absolute_error: 0.1760\n",
      "Epoch 28/100\n",
      "13/13 [==============================] - 1s 76ms/step - loss: 0.0470 - mean_absolute_error: 0.1796 - val_loss: 0.0470 - val_mean_absolute_error: 0.1765\n",
      "Epoch 29/100\n",
      "13/13 [==============================] - 1s 65ms/step - loss: 0.0473 - mean_absolute_error: 0.1777 - val_loss: 0.0464 - val_mean_absolute_error: 0.1789\n",
      "Epoch 30/100\n",
      "13/13 [==============================] - 1s 59ms/step - loss: 0.0461 - mean_absolute_error: 0.1770 - val_loss: 0.0457 - val_mean_absolute_error: 0.1761\n",
      "Epoch 31/100\n",
      "13/13 [==============================] - 1s 63ms/step - loss: 0.0464 - mean_absolute_error: 0.1768 - val_loss: 0.0485 - val_mean_absolute_error: 0.1838\n",
      "Epoch 32/100\n",
      "13/13 [==============================] - 1s 59ms/step - loss: 0.0508 - mean_absolute_error: 0.1816 - val_loss: 0.0487 - val_mean_absolute_error: 0.1779\n",
      "Epoch 33/100\n",
      "13/13 [==============================] - 1s 60ms/step - loss: 0.0471 - mean_absolute_error: 0.1806 - val_loss: 0.0466 - val_mean_absolute_error: 0.1760\n",
      "Epoch 34/100\n",
      "13/13 [==============================] - 1s 60ms/step - loss: 0.0458 - mean_absolute_error: 0.1769 - val_loss: 0.0459 - val_mean_absolute_error: 0.1755\n",
      "Epoch 35/100\n",
      "13/13 [==============================] - 1s 59ms/step - loss: 0.0471 - mean_absolute_error: 0.1770 - val_loss: 0.0459 - val_mean_absolute_error: 0.1771\n",
      "Epoch 36/100\n",
      "13/13 [==============================] - 1s 58ms/step - loss: 0.0467 - mean_absolute_error: 0.1784 - val_loss: 0.0470 - val_mean_absolute_error: 0.1763\n",
      "Epoch 37/100\n",
      "13/13 [==============================] - 1s 58ms/step - loss: 0.0478 - mean_absolute_error: 0.1790 - val_loss: 0.0459 - val_mean_absolute_error: 0.1754\n",
      "Epoch 38/100\n",
      "13/13 [==============================] - 1s 59ms/step - loss: 0.0468 - mean_absolute_error: 0.1785 - val_loss: 0.0458 - val_mean_absolute_error: 0.1753\n",
      "Epoch 39/100\n",
      "13/13 [==============================] - 1s 59ms/step - loss: 0.0470 - mean_absolute_error: 0.1777 - val_loss: 0.0476 - val_mean_absolute_error: 0.1767\n",
      "Epoch 40/100\n",
      "13/13 [==============================] - 1s 59ms/step - loss: 0.0488 - mean_absolute_error: 0.1801 - val_loss: 0.0462 - val_mean_absolute_error: 0.1782\n",
      "Epoch 41/100\n",
      "13/13 [==============================] - 1s 62ms/step - loss: 0.0486 - mean_absolute_error: 0.1786 - val_loss: 0.0496 - val_mean_absolute_error: 0.1860\n",
      "Epoch 42/100\n",
      "13/13 [==============================] - 1s 66ms/step - loss: 0.0469 - mean_absolute_error: 0.1794 - val_loss: 0.0457 - val_mean_absolute_error: 0.1768\n",
      "Epoch 43/100\n",
      "13/13 [==============================] - 1s 57ms/step - loss: 0.0483 - mean_absolute_error: 0.1836 - val_loss: 0.0493 - val_mean_absolute_error: 0.1781\n",
      "Epoch 44/100\n",
      "13/13 [==============================] - 1s 58ms/step - loss: 0.0476 - mean_absolute_error: 0.1789 - val_loss: 0.0456 - val_mean_absolute_error: 0.1747\n",
      "Epoch 45/100\n",
      "13/13 [==============================] - 1s 58ms/step - loss: 0.0465 - mean_absolute_error: 0.1769 - val_loss: 0.0454 - val_mean_absolute_error: 0.1752\n",
      "Epoch 46/100\n",
      "13/13 [==============================] - 1s 58ms/step - loss: 0.0467 - mean_absolute_error: 0.1777 - val_loss: 0.0473 - val_mean_absolute_error: 0.1811\n",
      "Epoch 47/100\n",
      "13/13 [==============================] - 1s 58ms/step - loss: 0.0458 - mean_absolute_error: 0.1762 - val_loss: 0.0458 - val_mean_absolute_error: 0.1746\n",
      "Epoch 48/100\n",
      "13/13 [==============================] - 1s 58ms/step - loss: 0.0477 - mean_absolute_error: 0.1797 - val_loss: 0.0461 - val_mean_absolute_error: 0.1779\n",
      "Epoch 49/100\n",
      "13/13 [==============================] - 1s 66ms/step - loss: 0.0467 - mean_absolute_error: 0.1762 - val_loss: 0.0466 - val_mean_absolute_error: 0.1792\n",
      "Epoch 50/100\n",
      "13/13 [==============================] - 1s 65ms/step - loss: 0.0468 - mean_absolute_error: 0.1778 - val_loss: 0.0475 - val_mean_absolute_error: 0.1763\n",
      "Epoch 51/100\n",
      "13/13 [==============================] - 1s 62ms/step - loss: 0.0458 - mean_absolute_error: 0.1750 - val_loss: 0.0467 - val_mean_absolute_error: 0.1795\n",
      "Epoch 52/100\n",
      "13/13 [==============================] - 1s 66ms/step - loss: 0.0471 - mean_absolute_error: 0.1765 - val_loss: 0.0456 - val_mean_absolute_error: 0.1765\n",
      "Epoch 53/100\n",
      "13/13 [==============================] - 1s 63ms/step - loss: 0.0463 - mean_absolute_error: 0.1781 - val_loss: 0.0462 - val_mean_absolute_error: 0.1749\n",
      "Epoch 54/100\n",
      "13/13 [==============================] - 1s 59ms/step - loss: 0.0464 - mean_absolute_error: 0.1773 - val_loss: 0.0454 - val_mean_absolute_error: 0.1739\n",
      "Epoch 55/100\n",
      "13/13 [==============================] - 1s 66ms/step - loss: 0.0472 - mean_absolute_error: 0.1772 - val_loss: 0.0469 - val_mean_absolute_error: 0.1800\n",
      "Epoch 56/100\n",
      "13/13 [==============================] - 1s 60ms/step - loss: 0.0469 - mean_absolute_error: 0.1771 - val_loss: 0.0452 - val_mean_absolute_error: 0.1750\n",
      "Epoch 57/100\n",
      "13/13 [==============================] - 1s 59ms/step - loss: 0.0461 - mean_absolute_error: 0.1762 - val_loss: 0.0460 - val_mean_absolute_error: 0.1744\n",
      "Epoch 58/100\n",
      "13/13 [==============================] - 1s 63ms/step - loss: 0.0460 - mean_absolute_error: 0.1766 - val_loss: 0.0471 - val_mean_absolute_error: 0.1757\n",
      "Epoch 59/100\n",
      "13/13 [==============================] - 1s 61ms/step - loss: 0.0468 - mean_absolute_error: 0.1772 - val_loss: 0.0452 - val_mean_absolute_error: 0.1752\n",
      "Epoch 60/100\n",
      "13/13 [==============================] - 1s 60ms/step - loss: 0.0455 - mean_absolute_error: 0.1734 - val_loss: 0.0450 - val_mean_absolute_error: 0.1733\n",
      "Epoch 61/100\n",
      "13/13 [==============================] - 1s 60ms/step - loss: 0.0468 - mean_absolute_error: 0.1757 - val_loss: 0.0478 - val_mean_absolute_error: 0.1817\n",
      "Epoch 62/100\n",
      "13/13 [==============================] - 1s 57ms/step - loss: 0.0500 - mean_absolute_error: 0.1831 - val_loss: 0.0449 - val_mean_absolute_error: 0.1737\n",
      "Epoch 63/100\n",
      "13/13 [==============================] - 1s 60ms/step - loss: 0.0463 - mean_absolute_error: 0.1767 - val_loss: 0.0459 - val_mean_absolute_error: 0.1740\n",
      "Epoch 64/100\n",
      "13/13 [==============================] - 1s 61ms/step - loss: 0.0457 - mean_absolute_error: 0.1758 - val_loss: 0.0450 - val_mean_absolute_error: 0.1730\n",
      "Epoch 65/100\n",
      "13/13 [==============================] - 1s 66ms/step - loss: 0.0454 - mean_absolute_error: 0.1759 - val_loss: 0.0450 - val_mean_absolute_error: 0.1743\n",
      "Epoch 66/100\n",
      "13/13 [==============================] - 1s 74ms/step - loss: 0.0458 - mean_absolute_error: 0.1753 - val_loss: 0.0449 - val_mean_absolute_error: 0.1728\n",
      "Epoch 67/100\n",
      "13/13 [==============================] - 1s 68ms/step - loss: 0.0463 - mean_absolute_error: 0.1755 - val_loss: 0.0493 - val_mean_absolute_error: 0.1776\n",
      "Epoch 68/100\n",
      "13/13 [==============================] - 1s 62ms/step - loss: 0.0465 - mean_absolute_error: 0.1762 - val_loss: 0.0451 - val_mean_absolute_error: 0.1749\n",
      "Epoch 69/100\n",
      "13/13 [==============================] - 1s 62ms/step - loss: 0.0453 - mean_absolute_error: 0.1732 - val_loss: 0.0450 - val_mean_absolute_error: 0.1744\n",
      "Epoch 70/100\n",
      "13/13 [==============================] - 1s 61ms/step - loss: 0.0458 - mean_absolute_error: 0.1747 - val_loss: 0.0451 - val_mean_absolute_error: 0.1747\n",
      "Epoch 71/100\n",
      "13/13 [==============================] - 1s 62ms/step - loss: 0.0458 - mean_absolute_error: 0.1756 - val_loss: 0.0450 - val_mean_absolute_error: 0.1744\n",
      "Epoch 72/100\n",
      "13/13 [==============================] - 1s 62ms/step - loss: 0.0469 - mean_absolute_error: 0.1767 - val_loss: 0.0447 - val_mean_absolute_error: 0.1727\n",
      "Epoch 73/100\n",
      "13/13 [==============================] - 1s 61ms/step - loss: 0.0457 - mean_absolute_error: 0.1754 - val_loss: 0.0454 - val_mean_absolute_error: 0.1755\n",
      "Epoch 74/100\n",
      "13/13 [==============================] - 1s 59ms/step - loss: 0.0455 - mean_absolute_error: 0.1752 - val_loss: 0.0468 - val_mean_absolute_error: 0.1745\n",
      "Epoch 75/100\n",
      "13/13 [==============================] - 1s 58ms/step - loss: 0.0458 - mean_absolute_error: 0.1741 - val_loss: 0.0450 - val_mean_absolute_error: 0.1745\n",
      "Epoch 76/100\n",
      "13/13 [==============================] - 1s 59ms/step - loss: 0.0462 - mean_absolute_error: 0.1760 - val_loss: 0.0446 - val_mean_absolute_error: 0.1724\n",
      "Epoch 77/100\n",
      "13/13 [==============================] - 1s 57ms/step - loss: 0.0451 - mean_absolute_error: 0.1730 - val_loss: 0.0446 - val_mean_absolute_error: 0.1730\n",
      "Epoch 78/100\n",
      "13/13 [==============================] - 1s 59ms/step - loss: 0.0447 - mean_absolute_error: 0.1733 - val_loss: 0.0462 - val_mean_absolute_error: 0.1736\n",
      "Epoch 79/100\n",
      "13/13 [==============================] - 1s 59ms/step - loss: 0.0473 - mean_absolute_error: 0.1769 - val_loss: 0.0497 - val_mean_absolute_error: 0.1854\n",
      "Epoch 80/100\n",
      "13/13 [==============================] - 1s 61ms/step - loss: 0.0483 - mean_absolute_error: 0.1788 - val_loss: 0.0453 - val_mean_absolute_error: 0.1723\n",
      "Epoch 81/100\n",
      "13/13 [==============================] - 1s 60ms/step - loss: 0.0451 - mean_absolute_error: 0.1724 - val_loss: 0.0447 - val_mean_absolute_error: 0.1733\n",
      "Epoch 82/100\n",
      "13/13 [==============================] - 1s 60ms/step - loss: 0.0455 - mean_absolute_error: 0.1746 - val_loss: 0.0446 - val_mean_absolute_error: 0.1729\n",
      "Epoch 83/100\n",
      "13/13 [==============================] - 1s 61ms/step - loss: 0.0457 - mean_absolute_error: 0.1738 - val_loss: 0.0447 - val_mean_absolute_error: 0.1717\n",
      "Epoch 84/100\n",
      "13/13 [==============================] - 1s 59ms/step - loss: 0.0458 - mean_absolute_error: 0.1748 - val_loss: 0.0446 - val_mean_absolute_error: 0.1731\n",
      "Epoch 85/100\n",
      "13/13 [==============================] - 1s 60ms/step - loss: 0.0472 - mean_absolute_error: 0.1767 - val_loss: 0.0476 - val_mean_absolute_error: 0.1749\n",
      "Epoch 86/100\n",
      "13/13 [==============================] - 1s 60ms/step - loss: 0.0467 - mean_absolute_error: 0.1770 - val_loss: 0.0444 - val_mean_absolute_error: 0.1715\n",
      "Epoch 87/100\n",
      "13/13 [==============================] - 1s 60ms/step - loss: 0.0458 - mean_absolute_error: 0.1736 - val_loss: 0.0457 - val_mean_absolute_error: 0.1761\n",
      "Epoch 88/100\n",
      "13/13 [==============================] - 1s 63ms/step - loss: 0.0453 - mean_absolute_error: 0.1749 - val_loss: 0.0447 - val_mean_absolute_error: 0.1715\n",
      "Epoch 89/100\n",
      "13/13 [==============================] - 1s 59ms/step - loss: 0.0454 - mean_absolute_error: 0.1751 - val_loss: 0.0444 - val_mean_absolute_error: 0.1715\n",
      "Epoch 90/100\n",
      "13/13 [==============================] - 1s 60ms/step - loss: 0.0465 - mean_absolute_error: 0.1746 - val_loss: 0.0461 - val_mean_absolute_error: 0.1772\n",
      "Epoch 91/100\n",
      "13/13 [==============================] - 1s 58ms/step - loss: 0.0473 - mean_absolute_error: 0.1784 - val_loss: 0.0446 - val_mean_absolute_error: 0.1711\n",
      "Epoch 92/100\n",
      "13/13 [==============================] - 1s 60ms/step - loss: 0.0458 - mean_absolute_error: 0.1763 - val_loss: 0.0447 - val_mean_absolute_error: 0.1713\n",
      "Epoch 93/100\n",
      "13/13 [==============================] - 1s 57ms/step - loss: 0.0457 - mean_absolute_error: 0.1727 - val_loss: 0.0457 - val_mean_absolute_error: 0.1763\n",
      "Epoch 94/100\n",
      "13/13 [==============================] - 1s 64ms/step - loss: 0.0450 - mean_absolute_error: 0.1733 - val_loss: 0.0453 - val_mean_absolute_error: 0.1720\n",
      "Epoch 95/100\n",
      "13/13 [==============================] - 1s 59ms/step - loss: 0.0460 - mean_absolute_error: 0.1748 - val_loss: 0.0446 - val_mean_absolute_error: 0.1713\n",
      "Epoch 96/100\n",
      "13/13 [==============================] - 1s 60ms/step - loss: 0.0456 - mean_absolute_error: 0.1723 - val_loss: 0.0448 - val_mean_absolute_error: 0.1740\n",
      "Epoch 97/100\n",
      "13/13 [==============================] - 1s 59ms/step - loss: 0.0455 - mean_absolute_error: 0.1745 - val_loss: 0.0450 - val_mean_absolute_error: 0.1716\n",
      "Epoch 98/100\n",
      "13/13 [==============================] - 1s 60ms/step - loss: 0.0450 - mean_absolute_error: 0.1705 - val_loss: 0.0452 - val_mean_absolute_error: 0.1751\n",
      "Epoch 99/100\n",
      "13/13 [==============================] - 1s 58ms/step - loss: 0.0478 - mean_absolute_error: 0.1797 - val_loss: 0.0445 - val_mean_absolute_error: 0.1710\n",
      "Epoch 100/100\n",
      "13/13 [==============================] - 1s 59ms/step - loss: 0.0450 - mean_absolute_error: 0.1741 - val_loss: 0.0445 - val_mean_absolute_error: 0.1712\n"
     ]
    },
    {
     "data": {
      "text/plain": [
       "<tensorflow.python.keras.callbacks.History at 0x7ff9a037b3d0>"
      ]
     },
     "execution_count": 34,
     "metadata": {},
     "output_type": "execute_result"
    }
   ],
   "source": [
    "#training it\n",
    "model = Sequential()\n",
    "model.add(LSTM(units=50, return_sequences=True, input_shape=(features_set_1.shape[1],1)))\n",
    "model.add(Dropout(0.2))\n",
    "model.add(LSTM(units=50, return_sequences=True))\n",
    "model.add(Dropout(0.2))\n",
    "model.add(Flatten())\n",
    "model.add(Dense(units = 1))\n",
    "model.compile(optimizer = 'adam', loss = 'mean_squared_error', metrics = ['mean_absolute_error'])\n",
    "model.fit(features_set_1, labels_1, epochs = 100, batch_size = 32,validation_data = (features_set_1, labels_1))\n"
   ]
  },
  {
   "cell_type": "code",
   "execution_count": 35,
   "metadata": {
    "execution": {
     "iopub.execute_input": "2021-01-13T11:37:39.533769Z",
     "iopub.status.busy": "2021-01-13T11:37:39.533131Z",
     "iopub.status.idle": "2021-01-13T11:37:39.536152Z",
     "shell.execute_reply": "2021-01-13T11:37:39.535514Z"
    },
    "papermill": {
     "duration": 0.489983,
     "end_time": "2021-01-13T11:37:39.536261",
     "exception": false,
     "start_time": "2021-01-13T11:37:39.046278",
     "status": "completed"
    },
    "tags": []
   },
   "outputs": [],
   "source": [
    "#TESTING THE MODEL\n",
    "open_testing_processed = test.iloc[:, 1:2].values"
   ]
  },
  {
   "cell_type": "code",
   "execution_count": 36,
   "metadata": {
    "execution": {
     "iopub.execute_input": "2021-01-13T11:37:40.419128Z",
     "iopub.status.busy": "2021-01-13T11:37:40.418409Z",
     "iopub.status.idle": "2021-01-13T11:37:40.423438Z",
     "shell.execute_reply": "2021-01-13T11:37:40.423998Z"
    },
    "papermill": {
     "duration": 0.448413,
     "end_time": "2021-01-13T11:37:40.424141",
     "exception": false,
     "start_time": "2021-01-13T11:37:39.975728",
     "status": "completed"
    },
    "tags": []
   },
   "outputs": [],
   "source": [
    "#convert test data to right format\n",
    "open_total = pd.concat((train['Open'], test['Open']), axis=0)"
   ]
  },
  {
   "cell_type": "markdown",
   "metadata": {
    "papermill": {
     "duration": 0.485433,
     "end_time": "2021-01-13T11:37:41.351225",
     "exception": false,
     "start_time": "2021-01-13T11:37:40.865792",
     "status": "completed"
    },
    "tags": []
   },
   "source": [
    "**Start predictions: Reshape, scale and then oredict the model**"
   ]
  },
  {
   "cell_type": "code",
   "execution_count": 37,
   "metadata": {
    "execution": {
     "iopub.execute_input": "2021-01-13T11:37:42.241996Z",
     "iopub.status.busy": "2021-01-13T11:37:42.240985Z",
     "iopub.status.idle": "2021-01-13T11:37:42.245990Z",
     "shell.execute_reply": "2021-01-13T11:37:42.246518Z"
    },
    "papermill": {
     "duration": 0.448585,
     "end_time": "2021-01-13T11:37:42.246657",
     "exception": false,
     "start_time": "2021-01-13T11:37:41.798072",
     "status": "completed"
    },
    "tags": []
   },
   "outputs": [],
   "source": [
    "test_inputs = open_total[len(open_total) - len(test) - 60:].values"
   ]
  },
  {
   "cell_type": "code",
   "execution_count": 38,
   "metadata": {
    "execution": {
     "iopub.execute_input": "2021-01-13T11:37:43.130279Z",
     "iopub.status.busy": "2021-01-13T11:37:43.129274Z",
     "iopub.status.idle": "2021-01-13T11:37:43.134301Z",
     "shell.execute_reply": "2021-01-13T11:37:43.134854Z"
    },
    "papermill": {
     "duration": 0.448832,
     "end_time": "2021-01-13T11:37:43.135001",
     "exception": false,
     "start_time": "2021-01-13T11:37:42.686169",
     "status": "completed"
    },
    "tags": []
   },
   "outputs": [],
   "source": [
    "#scaling data\n",
    "test_inputs = test_inputs.reshape(-1,1)\n",
    "test_inputs = scaler.transform(test_inputs)"
   ]
  },
  {
   "cell_type": "code",
   "execution_count": 39,
   "metadata": {
    "execution": {
     "iopub.execute_input": "2021-01-13T11:37:44.041529Z",
     "iopub.status.busy": "2021-01-13T11:37:44.040507Z",
     "iopub.status.idle": "2021-01-13T11:37:44.046676Z",
     "shell.execute_reply": "2021-01-13T11:37:44.046005Z"
    },
    "papermill": {
     "duration": 0.473711,
     "end_time": "2021-01-13T11:37:44.046818",
     "exception": false,
     "start_time": "2021-01-13T11:37:43.573107",
     "status": "completed"
    },
    "tags": []
   },
   "outputs": [],
   "source": [
    "test_features = []\n",
    "for i in range(60, 151):\n",
    "    test_features.append(test_inputs[i-60:i, 0])"
   ]
  },
  {
   "cell_type": "code",
   "execution_count": 40,
   "metadata": {
    "execution": {
     "iopub.execute_input": "2021-01-13T11:37:44.934611Z",
     "iopub.status.busy": "2021-01-13T11:37:44.933821Z",
     "iopub.status.idle": "2021-01-13T11:37:44.937860Z",
     "shell.execute_reply": "2021-01-13T11:37:44.937152Z"
    },
    "papermill": {
     "duration": 0.450504,
     "end_time": "2021-01-13T11:37:44.937975",
     "exception": false,
     "start_time": "2021-01-13T11:37:44.487471",
     "status": "completed"
    },
    "tags": []
   },
   "outputs": [],
   "source": [
    "test_features = np.array(test_features)\n",
    "test_features.shape\n",
    "test_features = np.reshape(test_features, (test_features.shape[0], test_features.shape[1], 1))"
   ]
  },
  {
   "cell_type": "code",
   "execution_count": 41,
   "metadata": {
    "execution": {
     "iopub.execute_input": "2021-01-13T11:37:45.825817Z",
     "iopub.status.busy": "2021-01-13T11:37:45.824818Z",
     "iopub.status.idle": "2021-01-13T11:37:46.773062Z",
     "shell.execute_reply": "2021-01-13T11:37:46.772413Z"
    },
    "papermill": {
     "duration": 1.394387,
     "end_time": "2021-01-13T11:37:46.773199",
     "exception": false,
     "start_time": "2021-01-13T11:37:45.378812",
     "status": "completed"
    },
    "tags": []
   },
   "outputs": [],
   "source": [
    "#make predictions\n",
    "predictions = model.predict(test_features)"
   ]
  },
  {
   "cell_type": "code",
   "execution_count": 42,
   "metadata": {
    "execution": {
     "iopub.execute_input": "2021-01-13T11:37:47.658945Z",
     "iopub.status.busy": "2021-01-13T11:37:47.658222Z",
     "iopub.status.idle": "2021-01-13T11:37:47.662214Z",
     "shell.execute_reply": "2021-01-13T11:37:47.662712Z"
    },
    "papermill": {
     "duration": 0.44694,
     "end_time": "2021-01-13T11:37:47.662877",
     "exception": false,
     "start_time": "2021-01-13T11:37:47.215937",
     "status": "completed"
    },
    "tags": []
   },
   "outputs": [],
   "source": [
    "predictions = scaler.inverse_transform(predictions)"
   ]
  },
  {
   "cell_type": "markdown",
   "metadata": {
    "papermill": {
     "duration": 0.437206,
     "end_time": "2021-01-13T11:37:48.546232",
     "exception": false,
     "start_time": "2021-01-13T11:37:48.109026",
     "status": "completed"
    },
    "tags": []
   },
   "source": [
    "**Plot the prediction model for the number of test days and train days**"
   ]
  },
  {
   "cell_type": "code",
   "execution_count": 43,
   "metadata": {
    "execution": {
     "iopub.execute_input": "2021-01-13T11:37:49.432138Z",
     "iopub.status.busy": "2021-01-13T11:37:49.431448Z",
     "iopub.status.idle": "2021-01-13T11:37:49.636075Z",
     "shell.execute_reply": "2021-01-13T11:37:49.635505Z"
    },
    "papermill": {
     "duration": 0.648725,
     "end_time": "2021-01-13T11:37:49.636191",
     "exception": false,
     "start_time": "2021-01-13T11:37:48.987466",
     "status": "completed"
    },
    "tags": []
   },
   "outputs": [
    {
     "data": {
      "image/png": "[encoded data removed]",
      "text/plain": [
       "<Figure size 720x432 with 1 Axes>"
      ]
     },
     "metadata": {
      "needs_background": "light"
     },
     "output_type": "display_data"
    }
   ],
   "source": [
    "plt.figure(figsize=(10,6))\n",
    "plt.plot(open_testing_processed, color='pink', label='Actual Stock Price')\n",
    "plt.plot(predictions , color='yellow', label='Predicted Stock Price')\n",
    "plt.title('Actual Value vs Predicted')\n",
    "plt.xlabel('Date')\n",
    "plt.ylabel('Predicted Price')\n",
    "plt.legend()\n",
    "plt.show()\n"
   ]
  },
  {
   "cell_type": "markdown",
   "metadata": {
    "papermill": {
     "duration": 0.437957,
     "end_time": "2021-01-13T11:37:50.520961",
     "exception": false,
     "start_time": "2021-01-13T11:37:50.083004",
     "status": "completed"
    },
    "tags": []
   },
   "source": [
    ">**This wasn't a great result with one feature so let's try using more features and then train them on LSTM model**"
   ]
  },
  {
   "cell_type": "markdown",
   "metadata": {
    "papermill": {
     "duration": 0.437748,
     "end_time": "2021-01-13T11:37:51.397553",
     "exception": false,
     "start_time": "2021-01-13T11:37:50.959805",
     "status": "completed"
    },
    "tags": []
   },
   "source": [
    "**USING 5 FEATURES :**"
   ]
  },
  {
   "cell_type": "code",
   "execution_count": 44,
   "metadata": {
    "execution": {
     "iopub.execute_input": "2021-01-13T11:37:52.292001Z",
     "iopub.status.busy": "2021-01-13T11:37:52.291104Z",
     "iopub.status.idle": "2021-01-13T11:37:52.295508Z",
     "shell.execute_reply": "2021-01-13T11:37:52.295019Z"
    },
    "papermill": {
     "duration": 0.461326,
     "end_time": "2021-01-13T11:37:52.295618",
     "exception": false,
     "start_time": "2021-01-13T11:37:51.834292",
     "status": "completed"
    },
    "tags": []
   },
   "outputs": [
    {
     "data": {
      "text/html": [
       "<div>\n",
       "<style scoped>\n",
       "    .dataframe tbody tr th:only-of-type {\n",
       "        vertical-align: middle;\n",
       "    }\n",
       "\n",
       "    .dataframe tbody tr th {\n",
       "        vertical-align: top;\n",
       "    }\n",
       "\n",
       "    .dataframe thead th {\n",
       "        text-align: right;\n",
       "    }\n",
       "</style>\n",
       "<table border=\"1\" class=\"dataframe\">\n",
       "  <thead>\n",
       "    <tr style=\"text-align: right;\">\n",
       "      <th></th>\n",
       "      <th>Open</th>\n",
       "      <th>High</th>\n",
       "      <th>Low</th>\n",
       "      <th>Close</th>\n",
       "      <th>Turnover</th>\n",
       "    </tr>\n",
       "    <tr>\n",
       "      <th>Date</th>\n",
       "      <th></th>\n",
       "      <th></th>\n",
       "      <th></th>\n",
       "      <th></th>\n",
       "      <th></th>\n",
       "    </tr>\n",
       "  </thead>\n",
       "  <tbody>\n",
       "    <tr>\n",
       "      <th>2000-03-01</th>\n",
       "      <td>6024.38</td>\n",
       "      <td>6102.12</td>\n",
       "      <td>5901.77</td>\n",
       "      <td>5917.37</td>\n",
       "      <td>-</td>\n",
       "    </tr>\n",
       "    <tr>\n",
       "      <th>2000-04-01</th>\n",
       "      <td>5922.23</td>\n",
       "      <td>5925.07</td>\n",
       "      <td>5657.20</td>\n",
       "      <td>5672.02</td>\n",
       "      <td>-</td>\n",
       "    </tr>\n",
       "    <tr>\n",
       "      <th>2000-05-01</th>\n",
       "      <td>5521.83</td>\n",
       "      <td>5589.50</td>\n",
       "      <td>5461.59</td>\n",
       "      <td>5479.70</td>\n",
       "      <td>-</td>\n",
       "    </tr>\n",
       "    <tr>\n",
       "      <th>2000-06-01</th>\n",
       "      <td>5485.93</td>\n",
       "      <td>5530.26</td>\n",
       "      <td>5388.85</td>\n",
       "      <td>5450.11</td>\n",
       "      <td>-</td>\n",
       "    </tr>\n",
       "    <tr>\n",
       "      <th>2000-07-01</th>\n",
       "      <td>5423.88</td>\n",
       "      <td>5561.69</td>\n",
       "      <td>5423.88</td>\n",
       "      <td>5539.61</td>\n",
       "      <td>-</td>\n",
       "    </tr>\n",
       "  </tbody>\n",
       "</table>\n",
       "</div>"
      ],
      "text/plain": [
       "               Open     High      Low    Close Turnover\n",
       "Date                                                   \n",
       "2000-03-01  6024.38  6102.12  5901.77  5917.37        -\n",
       "2000-04-01  5922.23  5925.07  5657.20  5672.02        -\n",
       "2000-05-01  5521.83  5589.50  5461.59  5479.70        -\n",
       "2000-06-01  5485.93  5530.26  5388.85  5450.11        -\n",
       "2000-07-01  5423.88  5561.69  5423.88  5539.61        -"
      ]
     },
     "execution_count": 44,
     "metadata": {},
     "output_type": "execute_result"
    }
   ],
   "source": [
    "dataset = cac1_df[['Open','High','Low','Close','Turnover']]\n",
    "dataset.head()"
   ]
  },
  {
   "cell_type": "code",
   "execution_count": 45,
   "metadata": {
    "execution": {
     "iopub.execute_input": "2021-01-13T11:37:53.187874Z",
     "iopub.status.busy": "2021-01-13T11:37:53.187173Z",
     "iopub.status.idle": "2021-01-13T11:37:53.190384Z",
     "shell.execute_reply": "2021-01-13T11:37:53.189842Z"
    },
    "papermill": {
     "duration": 0.455251,
     "end_time": "2021-01-13T11:37:53.190496",
     "exception": false,
     "start_time": "2021-01-13T11:37:52.735245",
     "status": "completed"
    },
    "tags": []
   },
   "outputs": [],
   "source": [
    "# FUNCTION TO CREATE 1D DATA INTO TIME SERIES DATASET\n",
    "def new_dataset(dataset, step_size):\n",
    "\tdata_X, data_Y = [], []\n",
    "\tfor i in range(len(dataset)-step_size-1):\n",
    "\t\ta = dataset[i:(i+step_size), 0]\n",
    "\t\tdata_X.append(a)\n",
    "\t\tdata_Y.append(dataset[i + step_size, 0])\n",
    "\treturn np.array(data_X), np.array(data_Y)"
   ]
  },
  {
   "cell_type": "code",
   "execution_count": 46,
   "metadata": {
    "execution": {
     "iopub.execute_input": "2021-01-13T11:37:54.086600Z",
     "iopub.status.busy": "2021-01-13T11:37:54.085575Z",
     "iopub.status.idle": "2021-01-13T11:37:54.088126Z",
     "shell.execute_reply": "2021-01-13T11:37:54.088718Z"
    },
    "papermill": {
     "duration": 0.456447,
     "end_time": "2021-01-13T11:37:54.088876",
     "exception": false,
     "start_time": "2021-01-13T11:37:53.632429",
     "status": "completed"
    },
    "tags": []
   },
   "outputs": [],
   "source": [
    "# IMPORTING IMPORTANT LIBRARIES\n",
    "from sklearn.preprocessing import MinMaxScaler\n",
    "from keras.models import Sequential\n",
    "from keras.layers import Dense, Activation\n",
    "from keras.layers import LSTM"
   ]
  },
  {
   "cell_type": "code",
   "execution_count": 47,
   "metadata": {
    "execution": {
     "iopub.execute_input": "2021-01-13T11:37:54.997806Z",
     "iopub.status.busy": "2021-01-13T11:37:54.997108Z",
     "iopub.status.idle": "2021-01-13T11:37:55.002998Z",
     "shell.execute_reply": "2021-01-13T11:37:55.003599Z"
    },
    "papermill": {
     "duration": 0.476326,
     "end_time": "2021-01-13T11:37:55.003745",
     "exception": false,
     "start_time": "2021-01-13T11:37:54.527419",
     "status": "completed"
    },
    "tags": []
   },
   "outputs": [],
   "source": [
    "# FOR REPRODUCIBILITY\n",
    "np.random.seed(7)"
   ]
  },
  {
   "cell_type": "code",
   "execution_count": 48,
   "metadata": {
    "execution": {
     "iopub.execute_input": "2021-01-13T11:37:55.969551Z",
     "iopub.status.busy": "2021-01-13T11:37:55.968935Z",
     "iopub.status.idle": "2021-01-13T11:37:55.987003Z",
     "shell.execute_reply": "2021-01-13T11:37:55.986434Z"
    },
    "papermill": {
     "duration": 0.516098,
     "end_time": "2021-01-13T11:37:55.987208",
     "exception": false,
     "start_time": "2021-01-13T11:37:55.471110",
     "status": "completed"
    },
    "tags": []
   },
   "outputs": [],
   "source": [
    "# IMPORTING DATASET \n",
    "dataset = dataset.reindex(index = dataset.index[::-1])\n",
    "# CREATING OWN INDEX FOR FLEXIBILITY\n",
    "obs = np.arange(1, len(dataset) + 1, 1)\n",
    "# TAKING DIFFERENT INDICATORS FOR PREDICTION\n",
    "OHLC_avg = dataset.mean(axis = 1)\n",
    "HLC_avg = dataset[['High', 'Low', 'Close']].mean(axis = 1)\n",
    "close_val = dataset[['Close']]"
   ]
  },
  {
   "cell_type": "code",
   "execution_count": 49,
   "metadata": {
    "execution": {
     "iopub.execute_input": "2021-01-13T11:37:56.897486Z",
     "iopub.status.busy": "2021-01-13T11:37:56.884310Z",
     "iopub.status.idle": "2021-01-13T11:37:57.061076Z",
     "shell.execute_reply": "2021-01-13T11:37:57.061598Z"
    },
    "papermill": {
     "duration": 0.632441,
     "end_time": "2021-01-13T11:37:57.061736",
     "exception": false,
     "start_time": "2021-01-13T11:37:56.429295",
     "status": "completed"
    },
    "tags": []
   },
   "outputs": [
    {
     "data": {
      "image/png": "[encoded data removed]",
      "text/plain": [
       "<Figure size 432x288 with 1 Axes>"
      ]
     },
     "metadata": {
      "needs_background": "light"
     },
     "output_type": "display_data"
    }
   ],
   "source": [
    "# PLOTTING All INDICATORS IN PLOT\n",
    "plt.plot(OHLC_avg, 'yellow', label = 'OHLC avg')\n",
    "plt.plot(close_val, 'blue', label = 'Closing price')\n",
    "plt.xlabel('Days')\n",
    "plt.ylabel('OHLC average')\n",
    "plt.show()\n"
   ]
  },
  {
   "cell_type": "code",
   "execution_count": 50,
   "metadata": {
    "execution": {
     "iopub.execute_input": "2021-01-13T11:37:57.965733Z",
     "iopub.status.busy": "2021-01-13T11:37:57.963330Z",
     "iopub.status.idle": "2021-01-13T11:37:58.110186Z",
     "shell.execute_reply": "2021-01-13T11:37:58.110720Z"
    },
    "papermill": {
     "duration": 0.608435,
     "end_time": "2021-01-13T11:37:58.110883",
     "exception": false,
     "start_time": "2021-01-13T11:37:57.502448",
     "status": "completed"
    },
    "tags": []
   },
   "outputs": [
    {
     "data": {
      "image/png": "[encoded data removed]",
      "text/plain": [
       "<Figure size 432x288 with 1 Axes>"
      ]
     },
     "metadata": {
      "needs_background": "light"
     },
     "output_type": "display_data"
    }
   ],
   "source": [
    "plt.plot(HLC_avg, 'red', label = 'HLC avg')\n",
    "plt.xlabel('Days')\n",
    "plt.ylabel('HLC average')\n",
    "plt.show()"
   ]
  },
  {
   "cell_type": "code",
   "execution_count": 51,
   "metadata": {
    "execution": {
     "iopub.execute_input": "2021-01-13T11:37:59.034097Z",
     "iopub.status.busy": "2021-01-13T11:37:59.028807Z",
     "iopub.status.idle": "2021-01-13T11:37:59.181038Z",
     "shell.execute_reply": "2021-01-13T11:37:59.181572Z"
    },
    "papermill": {
     "duration": 0.625398,
     "end_time": "2021-01-13T11:37:59.181718",
     "exception": false,
     "start_time": "2021-01-13T11:37:58.556320",
     "status": "completed"
    },
    "tags": []
   },
   "outputs": [
    {
     "data": {
      "image/png": "[encoded data removed]",
      "text/plain": [
       "<Figure size 432x288 with 1 Axes>"
      ]
     },
     "metadata": {
      "needs_background": "light"
     },
     "output_type": "display_data"
    }
   ],
   "source": [
    "plt.plot(close_val, 'blue', label = 'Closing price')\n",
    "plt.xlabel('Days')\n",
    "plt.ylabel('Closing Values')\n",
    "plt.show()"
   ]
  },
  {
   "cell_type": "code",
   "execution_count": 52,
   "metadata": {
    "execution": {
     "iopub.execute_input": "2021-01-13T11:38:00.093336Z",
     "iopub.status.busy": "2021-01-13T11:38:00.092307Z",
     "iopub.status.idle": "2021-01-13T11:38:00.103276Z",
     "shell.execute_reply": "2021-01-13T11:38:00.102567Z"
    },
    "papermill": {
     "duration": 0.478504,
     "end_time": "2021-01-13T11:38:00.103388",
     "exception": false,
     "start_time": "2021-01-13T11:37:59.624884",
     "status": "completed"
    },
    "tags": []
   },
   "outputs": [],
   "source": [
    "# PREPARATION OF TIME SERIES DATASE\n",
    "OHLC_avg = np.reshape(OHLC_avg.values, (len(OHLC_avg),1)) \n",
    "scaler = MinMaxScaler(feature_range=(0, 1))\n",
    "OHLC_avg = scaler.fit_transform(OHLC_avg)\n",
    "# TRAIN-TEST SPLIT\n",
    "train_OHLC = int(len(OHLC_avg) * 0.75)\n",
    "test_OHLC = len(OHLC_avg) - train_OHLC\n",
    "train_OHLC, test_OHLC = OHLC_avg[0:train_OHLC,:], OHLC_avg[train_OHLC:len(OHLC_avg),:]\n",
    "# TIME-SERIES DATASET (FOR TIME T, VALUES FOR TIME T+1)\n",
    "trainX, trainY = new_dataset(train_OHLC, 1)\n",
    "testX, testY = new_dataset(test_OHLC, 1)\n",
    "# RESHAPING TRAIN AND TEST DATA\n",
    "trainX = np.reshape(trainX, (trainX.shape[0], 1, trainX.shape[1]))\n",
    "testX = np.reshape(testX, (testX.shape[0], 1, testX.shape[1]))\n",
    "step_size = 1\n"
   ]
  },
  {
   "cell_type": "code",
   "execution_count": 53,
   "metadata": {
    "execution": {
     "iopub.execute_input": "2021-01-13T11:38:01.029706Z",
     "iopub.status.busy": "2021-01-13T11:38:01.028631Z",
     "iopub.status.idle": "2021-01-13T11:38:01.536732Z",
     "shell.execute_reply": "2021-01-13T11:38:01.536189Z"
    },
    "papermill": {
     "duration": 0.991057,
     "end_time": "2021-01-13T11:38:01.536875",
     "exception": false,
     "start_time": "2021-01-13T11:38:00.545818",
     "status": "completed"
    },
    "tags": []
   },
   "outputs": [],
   "source": [
    "# LSTM MODEL\n",
    "model = Sequential()\n",
    "model.add(LSTM(32, input_shape=(1, step_size), return_sequences = True))\n",
    "model.add(LSTM(16))\n",
    "model.add(Dense(1))\n",
    "model.add(Activation('linear'))"
   ]
  },
  {
   "cell_type": "code",
   "execution_count": 54,
   "metadata": {
    "execution": {
     "iopub.execute_input": "2021-01-13T11:38:02.446910Z",
     "iopub.status.busy": "2021-01-13T11:38:02.446191Z",
     "iopub.status.idle": "2021-01-13T11:43:04.363395Z",
     "shell.execute_reply": "2021-01-13T11:43:04.362709Z"
    },
    "papermill": {
     "duration": 302.377348,
     "end_time": "2021-01-13T11:43:04.363517",
     "exception": false,
     "start_time": "2021-01-13T11:38:01.986169",
     "status": "completed"
    },
    "tags": []
   },
   "outputs": [
    {
     "name": "stdout",
     "output_type": "stream",
     "text": [
      "Epoch 1/50\n",
      "3628/3628 - 6s - loss: 0.1045 - mae: 0.2740\n",
      "Epoch 2/50\n",
      "3628/3628 - 6s - loss: 0.0431 - mae: 0.1673\n",
      "Epoch 3/50\n",
      "3628/3628 - 6s - loss: 0.0297 - mae: 0.1422\n",
      "Epoch 4/50\n",
      "3628/3628 - 6s - loss: 0.0265 - mae: 0.1359\n",
      "Epoch 5/50\n",
      "3628/3628 - 6s - loss: 0.0255 - mae: 0.1337\n",
      "Epoch 6/50\n",
      "3628/3628 - 6s - loss: 0.0249 - mae: 0.1323\n",
      "Epoch 7/50\n",
      "3628/3628 - 6s - loss: 0.0244 - mae: 0.1309\n",
      "Epoch 8/50\n",
      "3628/3628 - 6s - loss: 0.0239 - mae: 0.1296\n",
      "Epoch 9/50\n",
      "3628/3628 - 6s - loss: 0.0234 - mae: 0.1283\n",
      "Epoch 10/50\n",
      "3628/3628 - 6s - loss: 0.0229 - mae: 0.1269\n",
      "Epoch 11/50\n",
      "3628/3628 - 6s - loss: 0.0224 - mae: 0.1256\n",
      "Epoch 12/50\n",
      "3628/3628 - 6s - loss: 0.0219 - mae: 0.1242\n",
      "Epoch 13/50\n",
      "3628/3628 - 6s - loss: 0.0214 - mae: 0.1228\n",
      "Epoch 14/50\n",
      "3628/3628 - 6s - loss: 0.0209 - mae: 0.1214\n",
      "Epoch 15/50\n",
      "3628/3628 - 6s - loss: 0.0204 - mae: 0.1199\n",
      "Epoch 16/50\n",
      "3628/3628 - 6s - loss: 0.0199 - mae: 0.1185\n",
      "Epoch 17/50\n",
      "3628/3628 - 6s - loss: 0.0194 - mae: 0.1170\n",
      "Epoch 18/50\n",
      "3628/3628 - 6s - loss: 0.0189 - mae: 0.1155\n",
      "Epoch 19/50\n",
      "3628/3628 - 6s - loss: 0.0184 - mae: 0.1140\n",
      "Epoch 20/50\n",
      "3628/3628 - 6s - loss: 0.0179 - mae: 0.1124\n",
      "Epoch 21/50\n",
      "3628/3628 - 6s - loss: 0.0174 - mae: 0.1108\n",
      "Epoch 22/50\n",
      "3628/3628 - 6s - loss: 0.0169 - mae: 0.1092\n",
      "Epoch 23/50\n",
      "3628/3628 - 6s - loss: 0.0164 - mae: 0.1076\n",
      "Epoch 24/50\n",
      "3628/3628 - 6s - loss: 0.0159 - mae: 0.1060\n",
      "Epoch 25/50\n",
      "3628/3628 - 6s - loss: 0.0154 - mae: 0.1043\n",
      "Epoch 26/50\n",
      "3628/3628 - 6s - loss: 0.0149 - mae: 0.1026\n",
      "Epoch 27/50\n",
      "3628/3628 - 6s - loss: 0.0144 - mae: 0.1009\n",
      "Epoch 28/50\n",
      "3628/3628 - 6s - loss: 0.0139 - mae: 0.0991\n",
      "Epoch 29/50\n",
      "3628/3628 - 6s - loss: 0.0134 - mae: 0.0974\n",
      "Epoch 30/50\n",
      "3628/3628 - 6s - loss: 0.0129 - mae: 0.0956\n",
      "Epoch 31/50\n",
      "3628/3628 - 6s - loss: 0.0125 - mae: 0.0938\n",
      "Epoch 32/50\n",
      "3628/3628 - 7s - loss: 0.0120 - mae: 0.0919\n",
      "Epoch 33/50\n",
      "3628/3628 - 6s - loss: 0.0115 - mae: 0.0901\n",
      "Epoch 34/50\n",
      "3628/3628 - 6s - loss: 0.0110 - mae: 0.0883\n",
      "Epoch 35/50\n",
      "3628/3628 - 6s - loss: 0.0106 - mae: 0.0864\n",
      "Epoch 36/50\n",
      "3628/3628 - 6s - loss: 0.0101 - mae: 0.0844\n",
      "Epoch 37/50\n",
      "3628/3628 - 6s - loss: 0.0096 - mae: 0.0825\n",
      "Epoch 38/50\n",
      "3628/3628 - 6s - loss: 0.0092 - mae: 0.0806\n",
      "Epoch 39/50\n",
      "3628/3628 - 6s - loss: 0.0088 - mae: 0.0787\n",
      "Epoch 40/50\n",
      "3628/3628 - 6s - loss: 0.0083 - mae: 0.0768\n",
      "Epoch 41/50\n",
      "3628/3628 - 6s - loss: 0.0079 - mae: 0.0748\n",
      "Epoch 42/50\n",
      "3628/3628 - 6s - loss: 0.0075 - mae: 0.0728\n",
      "Epoch 43/50\n",
      "3628/3628 - 6s - loss: 0.0071 - mae: 0.0709\n",
      "Epoch 44/50\n",
      "3628/3628 - 6s - loss: 0.0067 - mae: 0.0689\n",
      "Epoch 45/50\n",
      "3628/3628 - 6s - loss: 0.0064 - mae: 0.0670\n",
      "Epoch 46/50\n",
      "3628/3628 - 6s - loss: 0.0060 - mae: 0.0650\n",
      "Epoch 47/50\n",
      "3628/3628 - 6s - loss: 0.0056 - mae: 0.0630\n",
      "Epoch 48/50\n",
      "3628/3628 - 6s - loss: 0.0053 - mae: 0.0611\n",
      "Epoch 49/50\n",
      "3628/3628 - 6s - loss: 0.0050 - mae: 0.0592\n",
      "Epoch 50/50\n",
      "3628/3628 - 6s - loss: 0.0047 - mae: 0.0573\n"
     ]
    },
    {
     "data": {
      "text/plain": [
       "<tensorflow.python.keras.callbacks.History at 0x7ff955f74190>"
      ]
     },
     "execution_count": 54,
     "metadata": {},
     "output_type": "execute_result"
    }
   ],
   "source": [
    "# MODEL COMPILING AND TRAINING\n",
    "model.compile(loss='mean_squared_error', optimizer='adagrad',metrics = ['mae']) # Try mae, adam, adagrad and compare!!!\n",
    "model.fit(trainX, trainY, epochs=50, batch_size=1, verbose=2)"
   ]
  },
  {
   "cell_type": "code",
   "execution_count": 55,
   "metadata": {
    "execution": {
     "iopub.execute_input": "2021-01-13T11:43:05.333071Z",
     "iopub.status.busy": "2021-01-13T11:43:05.332436Z",
     "iopub.status.idle": "2021-01-13T11:43:06.149678Z",
     "shell.execute_reply": "2021-01-13T11:43:06.148924Z"
    },
    "papermill": {
     "duration": 1.304798,
     "end_time": "2021-01-13T11:43:06.149843",
     "exception": false,
     "start_time": "2021-01-13T11:43:04.845045",
     "status": "completed"
    },
    "tags": []
   },
   "outputs": [
    {
     "name": "stdout",
     "output_type": "stream",
     "text": [
      "76/76 [==============================] - 0s 1ms/step - loss: 0.0111 - mae: 0.0923\n",
      "Mean Absolute Error for Y: [0.011081618256866932, 0.09226291626691818]\n"
     ]
    }
   ],
   "source": [
    "mae = model.evaluate(testX, testY, batch_size=16)\n",
    "print('Mean Absolute Error for Y:', mae)"
   ]
  },
  {
   "cell_type": "code",
   "execution_count": null,
   "metadata": {
    "papermill": {
     "duration": 0.486891,
     "end_time": "2021-01-13T11:43:07.161851",
     "exception": false,
     "start_time": "2021-01-13T11:43:06.674960",
     "status": "completed"
    },
    "tags": []
   },
   "outputs": [],
   "source": []
  },
  {
   "cell_type": "code",
   "execution_count": 56,
   "metadata": {
    "execution": {
     "iopub.execute_input": "2021-01-13T11:43:08.175996Z",
     "iopub.status.busy": "2021-01-13T11:43:08.174988Z",
     "iopub.status.idle": "2021-01-13T11:43:09.053399Z",
     "shell.execute_reply": "2021-01-13T11:43:09.052607Z"
    },
    "papermill": {
     "duration": 1.411359,
     "end_time": "2021-01-13T11:43:09.053517",
     "exception": false,
     "start_time": "2021-01-13T11:43:07.642158",
     "status": "completed"
    },
    "tags": []
   },
   "outputs": [],
   "source": [
    "# PREDICTION\n",
    "trainPredict = model.predict(trainX)\n",
    "testPredict = model.predict(testX)"
   ]
  },
  {
   "cell_type": "code",
   "execution_count": 57,
   "metadata": {
    "execution": {
     "iopub.execute_input": "2021-01-13T11:43:10.059217Z",
     "iopub.status.busy": "2021-01-13T11:43:10.057597Z",
     "iopub.status.idle": "2021-01-13T11:43:10.064613Z",
     "shell.execute_reply": "2021-01-13T11:43:10.063848Z"
    },
    "papermill": {
     "duration": 0.513858,
     "end_time": "2021-01-13T11:43:10.064732",
     "exception": false,
     "start_time": "2021-01-13T11:43:09.550874",
     "status": "completed"
    },
    "tags": []
   },
   "outputs": [
    {
     "name": "stdout",
     "output_type": "stream",
     "text": [
      "Train RMSE: 297.61\n"
     ]
    }
   ],
   "source": [
    "# DE-NORMALIZING FOR PLOTTING\n",
    "trainPredict = scaler.inverse_transform(trainPredict)\n",
    "trainY = scaler.inverse_transform([trainY])\n",
    "testPredict = scaler.inverse_transform(testPredict)\n",
    "testY = scaler.inverse_transform([testY])\n",
    "# TRAINING RMSE\n",
    "trainScore = math.sqrt(mean_squared_error(trainY[0], trainPredict[:,0]))\n",
    "print('Train RMSE: %.2f' % (trainScore))"
   ]
  },
  {
   "cell_type": "code",
   "execution_count": 58,
   "metadata": {
    "execution": {
     "iopub.execute_input": "2021-01-13T11:43:11.043272Z",
     "iopub.status.busy": "2021-01-13T11:43:11.042338Z",
     "iopub.status.idle": "2021-01-13T11:43:11.047250Z",
     "shell.execute_reply": "2021-01-13T11:43:11.046699Z"
    },
    "papermill": {
     "duration": 0.492982,
     "end_time": "2021-01-13T11:43:11.047369",
     "exception": false,
     "start_time": "2021-01-13T11:43:10.554387",
     "status": "completed"
    },
    "tags": []
   },
   "outputs": [
    {
     "name": "stdout",
     "output_type": "stream",
     "text": [
      "Test RMSE: 466.44\n"
     ]
    }
   ],
   "source": [
    "# TEST RMSE\n",
    "testScore = math.sqrt(mean_squared_error(testY[0], testPredict[:,0]))\n",
    "print('Test RMSE: %.2f' % (testScore))"
   ]
  },
  {
   "cell_type": "code",
   "execution_count": 59,
   "metadata": {
    "execution": {
     "iopub.execute_input": "2021-01-13T11:43:12.020713Z",
     "iopub.status.busy": "2021-01-13T11:43:12.020083Z",
     "iopub.status.idle": "2021-01-13T11:43:12.023301Z",
     "shell.execute_reply": "2021-01-13T11:43:12.022670Z"
    },
    "papermill": {
     "duration": 0.493193,
     "end_time": "2021-01-13T11:43:12.023411",
     "exception": false,
     "start_time": "2021-01-13T11:43:11.530218",
     "status": "completed"
    },
    "tags": []
   },
   "outputs": [],
   "source": [
    "# CREATING SIMILAR DATASET TO PLOT TRAINING PREDICTIONS\n",
    "trainPredictPlot = np.empty_like(OHLC_avg)\n",
    "trainPredictPlot[:, :] = np.nan\n",
    "trainPredictPlot[step_size:len(trainPredict)+step_size, :] = trainPredict\n",
    "# CREATING SIMILAR DATASSET TO PLOT TEST PREDICTIONS\n",
    "testPredictPlot = np.empty_like(OHLC_avg)\n",
    "testPredictPlot[:, :] = np.nan\n",
    "testPredictPlot[len(trainPredict)+(step_size*2)+1:len(OHLC_avg)-1, :] = testPredict"
   ]
  },
  {
   "cell_type": "code",
   "execution_count": 60,
   "metadata": {
    "execution": {
     "iopub.execute_input": "2021-01-13T11:43:13.002030Z",
     "iopub.status.busy": "2021-01-13T11:43:13.001339Z",
     "iopub.status.idle": "2021-01-13T11:43:13.163190Z",
     "shell.execute_reply": "2021-01-13T11:43:13.162609Z"
    },
    "papermill": {
     "duration": 0.659356,
     "end_time": "2021-01-13T11:43:13.163302",
     "exception": false,
     "start_time": "2021-01-13T11:43:12.503946",
     "status": "completed"
    },
    "tags": []
   },
   "outputs": [
    {
     "data": {
      "image/png": "[encoded data removed]",
      "text/plain": [
       "<Figure size 432x288 with 1 Axes>"
      ]
     },
     "metadata": {
      "needs_background": "light"
     },
     "output_type": "display_data"
    }
   ],
   "source": [
    "# PLOT OF MAIN OHLC VALUES, TRAIN PREDICTIONS AND TEST PREDICTIONS\n",
    "plt.plot(trainPredictPlot, 'r', label = 'training set')\n",
    "plt.plot(testPredictPlot, 'b', label = 'predicted stock price/test set')\n",
    "plt.legend(loc = 'upper right')\n",
    "plt.xlabel('Time in Days')\n",
    "plt.ylabel('Trend of training and prediction data')\n",
    "plt.show()\n"
   ]
  },
  {
   "cell_type": "code",
   "execution_count": 61,
   "metadata": {
    "execution": {
     "iopub.execute_input": "2021-01-13T11:43:14.163690Z",
     "iopub.status.busy": "2021-01-13T11:43:14.162627Z",
     "iopub.status.idle": "2021-01-13T11:43:14.205476Z",
     "shell.execute_reply": "2021-01-13T11:43:14.206011Z"
    },
    "papermill": {
     "duration": 0.560547,
     "end_time": "2021-01-13T11:43:14.206164",
     "exception": false,
     "start_time": "2021-01-13T11:43:13.645617",
     "status": "completed"
    },
    "tags": []
   },
   "outputs": [
    {
     "name": "stdout",
     "output_type": "stream",
     "text": [
      "Last Day Value: 5131.7021484375\n",
      "Next Day Value: 4058.545654296875\n"
     ]
    }
   ],
   "source": [
    "# PREDICT FUTURE VALUES\n",
    "last_val = testPredict[-1]\n",
    "last_val_scaled = last_val/last_val\n",
    "next_val = model.predict(np.reshape(last_val_scaled, (1,1,1)))\n",
    "print(\"Last Day Value:\", np.asscalar(last_val))\n",
    "print(\"Next Day Value:\", np.asscalar(last_val*next_val))\n",
    "# print np.append(last_val, next_val)\n"
   ]
  },
  {
   "cell_type": "code",
   "execution_count": null,
   "metadata": {
    "papermill": {
     "duration": 0.488472,
     "end_time": "2021-01-13T11:43:15.177000",
     "exception": false,
     "start_time": "2021-01-13T11:43:14.688528",
     "status": "completed"
    },
    "tags": []
   },
   "outputs": [],
   "source": []
  }
 ],
 "metadata": {
  "kernelspec": {
   "display_name": "Python 3",
   "language": "python",
   "name": "python3"
  },
  "language_info": {
   "codemirror_mode": {
    "name": "ipython",
    "version": 3
   },
   "file_extension": ".py",
   "mimetype": "text/x-python",
   "name": "python",
   "nbconvert_exporter": "python",
   "pygments_lexer": "ipython3",
   "version": "3.7.6"
  },
  "papermill": {
   "duration": 936.136229,
   "end_time": "2021-01-13T11:43:15.775584",
   "environment_variables": {},
   "exception": null,
   "input_path": "__notebook__.ipynb",
   "output_path": "__notebook__.ipynb",
   "parameters": {},
   "start_time": "2021-01-13T11:27:39.639355",
   "version": "2.1.0"
  }
 },
 "nbformat": 4,
 "nbformat_minor": 4
}
